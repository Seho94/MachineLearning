{
 "cells": [
  {
   "cell_type": "markdown",
   "id": "9b836fdf",
   "metadata": {},
   "source": [
    "## 목표: MNIST 분류기 97% 정확도 달성\n",
    "   - 힌트1: KNN 활용\n",
    "   - 힌트2: GridSearchCV (weights, n_neighbors 하이퍼파라미터 이용하기)\n",
    "   - 힌트3: Data Augmentation 데이터셋을 늘리자!"
   ]
  },
  {
   "cell_type": "code",
   "execution_count": 1,
   "id": "2c0a84ed",
   "metadata": {},
   "outputs": [],
   "source": [
    "from sklearn.datasets import fetch_openml\n",
    "\n",
    "mnist = fetch_openml('mnist_784',version=1)"
   ]
  },
  {
   "cell_type": "code",
   "execution_count": 2,
   "id": "77da7f88",
   "metadata": {},
   "outputs": [
    {
     "data": {
      "text/plain": [
       "((70000, 784), (70000,))"
      ]
     },
     "execution_count": 2,
     "metadata": {},
     "output_type": "execute_result"
    }
   ],
   "source": [
    "X, y = mnist['data'], mnist['target']\n",
    "X.shape, y.shape"
   ]
  },
  {
   "cell_type": "markdown",
   "id": "7f400070",
   "metadata": {},
   "source": [
    "### train, test 셋 분리"
   ]
  },
  {
   "cell_type": "code",
   "execution_count": 11,
   "id": "ee55632e",
   "metadata": {},
   "outputs": [],
   "source": [
    "from sklearn.model_selection import StratifiedShuffleSplit\n",
    "\n",
    "split = StratifiedShuffleSplit(n_splits=1, random_state=156, test_size=0.2)\n",
    "for tr_idx, te_idx in split.split(X, y):\n",
    "    x_train, y_train = X.iloc[tr_idx], y.iloc[tr_idx]\n",
    "    x_test, y_test = X.iloc[te_idx], y.iloc[te_idx]"
   ]
  },
  {
   "cell_type": "markdown",
   "id": "f02133df",
   "metadata": {},
   "source": [
    "### Hint Model: KNN"
   ]
  },
  {
   "cell_type": "code",
   "execution_count": 14,
   "id": "b353db9e",
   "metadata": {},
   "outputs": [
    {
     "name": "stdout",
     "output_type": "stream",
     "text": [
      "knn train acc: 0.9810357142857142\n",
      "knn acc: 0.9701428571428572\n"
     ]
    }
   ],
   "source": [
    "from sklearn.neighbors import KNeighborsClassifier\n",
    "\n",
    "knn = KNeighborsClassifier()\n",
    "knn.fit(x_train, y_train)\n",
    "print(f\"knn train acc: {knn.score(x_train, y_train)}\")\n",
    "knn_pred = knn.predict(x_test)\n",
    "from sklearn.metrics import accuracy_score\n",
    "print(f\"knn acc: {accuracy_score(y_test, knn_pred)}\")"
   ]
  },
  {
   "cell_type": "markdown",
   "id": "bef8b878",
   "metadata": {},
   "source": [
    "클래스별 계층 샘플링을 했더니, 기본 97%가 나와 당황  \n",
    "문제 의도대로 GridSearchCV도 진행"
   ]
  },
  {
   "cell_type": "markdown",
   "id": "68feb578",
   "metadata": {},
   "source": [
    "### GridSearchCV\n",
    "   - knn 하이퍼파라미터 특징\n",
    "       1. weight\n",
    "           - uniform: 가중치를 동등하게 설정 (default)\n",
    "           - distance: 분류할 때, 인접한 샘플의 거리에 따라 다른 가중치 부여 (가까울수록 큰 가중치)\n",
    "           \n",
    "       2. n_neighbors\n",
    "           - 이웃의 수 (default 5)\n",
    "               - 적어지면 > model의 결정경계 복잡 > 과적합\n",
    "               - 많아지면 > model의 결정경계 단순 > 과소적합"
   ]
  },
  {
   "cell_type": "code",
   "execution_count": 15,
   "id": "dc620d54",
   "metadata": {},
   "outputs": [
    {
     "name": "stdout",
     "output_type": "stream",
     "text": [
      "Fitting 5 folds for each of 6 candidates, totalling 30 fits\n",
      "[CV 1/5] END .................n_neighbors=3, weights=uniform; total time=  12.6s\n",
      "[CV 2/5] END .................n_neighbors=3, weights=uniform; total time=  12.6s\n",
      "[CV 3/5] END .................n_neighbors=3, weights=uniform; total time=  12.7s\n",
      "[CV 4/5] END .................n_neighbors=3, weights=uniform; total time=  12.4s\n",
      "[CV 5/5] END .................n_neighbors=3, weights=uniform; total time=  12.5s\n",
      "[CV 1/5] END ................n_neighbors=3, weights=distance; total time=  12.5s\n",
      "[CV 2/5] END ................n_neighbors=3, weights=distance; total time=  12.5s\n",
      "[CV 3/5] END ................n_neighbors=3, weights=distance; total time=  12.4s\n",
      "[CV 4/5] END ................n_neighbors=3, weights=distance; total time=  12.3s\n",
      "[CV 5/5] END ................n_neighbors=3, weights=distance; total time=  12.4s\n",
      "[CV 1/5] END .................n_neighbors=4, weights=uniform; total time=  14.6s\n",
      "[CV 2/5] END .................n_neighbors=4, weights=uniform; total time=  15.5s\n",
      "[CV 3/5] END .................n_neighbors=4, weights=uniform; total time=  14.6s\n",
      "[CV 4/5] END .................n_neighbors=4, weights=uniform; total time=  15.7s\n",
      "[CV 5/5] END .................n_neighbors=4, weights=uniform; total time=  15.6s\n",
      "[CV 1/5] END ................n_neighbors=4, weights=distance; total time=  14.3s\n",
      "[CV 2/5] END ................n_neighbors=4, weights=distance; total time=  15.0s\n",
      "[CV 3/5] END ................n_neighbors=4, weights=distance; total time=  14.1s\n",
      "[CV 4/5] END ................n_neighbors=4, weights=distance; total time=  15.5s\n",
      "[CV 5/5] END ................n_neighbors=4, weights=distance; total time=  15.6s\n",
      "[CV 1/5] END .................n_neighbors=5, weights=uniform; total time=  14.8s\n",
      "[CV 2/5] END .................n_neighbors=5, weights=uniform; total time=  15.4s\n",
      "[CV 3/5] END .................n_neighbors=5, weights=uniform; total time=  14.9s\n",
      "[CV 4/5] END .................n_neighbors=5, weights=uniform; total time=  15.6s\n",
      "[CV 5/5] END .................n_neighbors=5, weights=uniform; total time=  15.6s\n",
      "[CV 1/5] END ................n_neighbors=5, weights=distance; total time=  14.7s\n",
      "[CV 2/5] END ................n_neighbors=5, weights=distance; total time=  15.2s\n",
      "[CV 3/5] END ................n_neighbors=5, weights=distance; total time=  14.9s\n",
      "[CV 4/5] END ................n_neighbors=5, weights=distance; total time=  15.4s\n",
      "[CV 5/5] END ................n_neighbors=5, weights=distance; total time=  15.5s\n"
     ]
    },
    {
     "data": {
      "text/plain": [
       "GridSearchCV(cv=5, estimator=KNeighborsClassifier(),\n",
       "             param_grid=[{'n_neighbors': [3, 4, 5],\n",
       "                          'weights': ['uniform', 'distance']}],\n",
       "             verbose=3)"
      ]
     },
     "execution_count": 15,
     "metadata": {},
     "output_type": "execute_result"
    }
   ],
   "source": [
    "from sklearn.model_selection import GridSearchCV\n",
    "\n",
    "param_grid = [{'weights':[\"uniform\",\"distance\"],\n",
    "               'n_neighbors':[3,4,5]}]\n",
    "\n",
    "knn = KNeighborsClassifier()\n",
    "grid_search = GridSearchCV(knn, param_grid, cv=5, verbose=3)\n",
    "grid_search.fit(x_train, y_train)"
   ]
  },
  {
   "cell_type": "code",
   "execution_count": 19,
   "id": "8ffcd327",
   "metadata": {},
   "outputs": [
    {
     "name": "stdout",
     "output_type": "stream",
     "text": [
      "best train acc: 1.0\n",
      "best test acc: 0.9727857142857143\n"
     ]
    }
   ],
   "source": [
    "best_pred = grid_search.best_estimator_.predict(x_test)\n",
    "print(f\"best train acc: {grid_search.best_estimator_.score(x_train,y_train)}\")\n",
    "print(f\"best test acc: {accuracy_score(y_test, best_pred)}\")"
   ]
  },
  {
   "cell_type": "markdown",
   "id": "828f9cfe",
   "metadata": {},
   "source": [
    "test acc가  늘었지만, train acc가 1이라 과적합 가능성?"
   ]
  },
  {
   "cell_type": "markdown",
   "id": "e831b61d",
   "metadata": {},
   "source": [
    "### Data Augmentation\n",
    "   - 어느 방향으로든 한 픽셀 이동시킬 수 있는 함수를 만들어보자\n",
    "   - 각 이미지에 대해 네 개의 이동된 복사본 (방향마다 한 장씩)"
   ]
  },
  {
   "cell_type": "code",
   "execution_count": 51,
   "id": "8455e94a",
   "metadata": {},
   "outputs": [],
   "source": [
    "from scipy.ndimage.interpolation import shift\n",
    "import numpy as np\n",
    "\n",
    "# 이미지 움직이는 함수 정의\n",
    "def shift_image(image, dx, dy):\n",
    "    image = image.reshape((28,28))\n",
    "    shifted_image = shift(image, [dy, dx], cval=0, mode='constant')\n",
    "    return shifted_image.reshape([-1])\n",
    "\n",
    "X_train_augmented = [image for image in x_train.values]\n",
    "y_train_augmented = [label for label in y_train]\n",
    "\n",
    "for dx, dy in ((1,0), (-1,0), (0,1), (0,-1)):\n",
    "    for image, label in zip(x_train.values, y_train):\n",
    "        X_train_augmented.append(shift_image(image, dx, dy))\n",
    "        y_train_augmented.append(label)\n",
    "        \n",
    "X_train_augmented = np.array(X_train_augmented)\n",
    "y_train_augmented = np.array(y_train_augmented)"
   ]
  },
  {
   "cell_type": "code",
   "execution_count": 52,
   "id": "58ae4aa4",
   "metadata": {},
   "outputs": [
    {
     "name": "stdout",
     "output_type": "stream",
     "text": [
      "train acc: 0.9909071428571429\n",
      "test acc: 0.9772142857142857\n"
     ]
    }
   ],
   "source": [
    "knn.fit(X_train_augmented, y_train_augmented)\n",
    "print(\"train acc:\", knn.score(X_train_augmented,y_train_augmented))\n",
    "aug_pred = knn.predict(x_test)\n",
    "print(\"test acc:\", accuracy_score(y_test, aug_pred))"
   ]
  },
  {
   "cell_type": "markdown",
   "id": "6742a13b",
   "metadata": {},
   "source": [
    "train acc도 1이 아닌 0.99 이고, test acc는 0.977로 gridsearchcv를 사용한 것보다 0.05 향상!  "
   ]
  },
  {
   "cell_type": "markdown",
   "id": "a88c4d91",
   "metadata": {},
   "source": [
    "다만, 학습 이미지만 28만장으로 너무 오래 걸려 여기에서 gridsearchcv 추가적용은 패스!! 도망~~"
   ]
  }
 ],
 "metadata": {
  "kernelspec": {
   "display_name": "Python 3",
   "language": "python",
   "name": "python3"
  },
  "language_info": {
   "codemirror_mode": {
    "name": "ipython",
    "version": 3
   },
   "file_extension": ".py",
   "mimetype": "text/x-python",
   "name": "python",
   "nbconvert_exporter": "python",
   "pygments_lexer": "ipython3",
   "version": "3.8.8"
  }
 },
 "nbformat": 4,
 "nbformat_minor": 5
}
