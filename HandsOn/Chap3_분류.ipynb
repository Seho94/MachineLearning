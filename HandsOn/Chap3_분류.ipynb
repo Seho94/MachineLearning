{
 "cells": [
  {
   "cell_type": "markdown",
   "id": "fe263c1a",
   "metadata": {},
   "source": [
    "# 분류"
   ]
  },
  {
   "cell_type": "markdown",
   "id": "c217068e",
   "metadata": {},
   "source": [
    "## 3.1 MNIST"
   ]
  },
  {
   "cell_type": "code",
   "execution_count": 1,
   "id": "bd242c61",
   "metadata": {},
   "outputs": [
    {
     "data": {
      "text/plain": [
       "dict_keys(['data', 'target', 'frame', 'categories', 'feature_names', 'target_names', 'DESCR', 'details', 'url'])"
      ]
     },
     "execution_count": 1,
     "metadata": {},
     "output_type": "execute_result"
    }
   ],
   "source": [
    "from sklearn.datasets import fetch_openml\n",
    "\n",
    "mnist = fetch_openml('mnist_784',version=1)\n",
    "mnist.keys()"
   ]
  },
  {
   "cell_type": "markdown",
   "id": "d7c8eba0",
   "metadata": {},
   "source": [
    "   - DESCR: 데이터 설명하는 키\n",
    "   - data: 샘플이 하나의 행, 특성이 하나의 열로 구성된 배열을 가진 키\n",
    "   - target: 레이블 배열을 담은 키"
   ]
  },
  {
   "cell_type": "code",
   "execution_count": 2,
   "id": "77744932",
   "metadata": {},
   "outputs": [
    {
     "data": {
      "text/plain": [
       "((70000, 784), (70000,))"
      ]
     },
     "execution_count": 2,
     "metadata": {},
     "output_type": "execute_result"
    }
   ],
   "source": [
    "X, y = mnist['data'], mnist['target']\n",
    "X.shape, y.shape"
   ]
  },
  {
   "cell_type": "markdown",
   "id": "96b190c1",
   "metadata": {},
   "source": [
    "70,000장, 784개의 특성 (28 x 28 이미지)  \n",
    "개개의 특성은 단순히 0(흰색)부터 255(검은색)까지의 픽셀 강도"
   ]
  },
  {
   "cell_type": "code",
   "execution_count": 7,
   "id": "707d3d6e",
   "metadata": {},
   "outputs": [
    {
     "data": {
      "image/png": "[encoded data removed]",
      "text/plain": [
       "<Figure size 432x288 with 1 Axes>"
      ]
     },
     "metadata": {
      "needs_background": "light"
     },
     "output_type": "display_data"
    }
   ],
   "source": [
    "import matplotlib as mpl\n",
    "import matplotlib.pyplot as plt\n",
    "\n",
    "some_digit = X.iloc[0]\n",
    "some_digit_image = some_digit.values.reshape(28,28)\n",
    "\n",
    "plt.imshow(some_digit_image, cmap='binary')\n",
    "plt.axis(\"off\")\n",
    "plt.show()"
   ]
  },
  {
   "cell_type": "code",
   "execution_count": 8,
   "id": "3b0a2ac1",
   "metadata": {},
   "outputs": [
    {
     "data": {
      "text/plain": [
       "'5'"
      ]
     },
     "execution_count": 8,
     "metadata": {},
     "output_type": "execute_result"
    }
   ],
   "source": [
    "y[0]"
   ]
  },
  {
   "cell_type": "markdown",
   "id": "abecf64b",
   "metadata": {},
   "source": [
    "target값이 '5'로 문자열  \n",
    "머신러닝 알고리즘은 숫자를 기대하므로 정수로 변환"
   ]
  },
  {
   "cell_type": "code",
   "execution_count": 10,
   "id": "2ca12bde",
   "metadata": {},
   "outputs": [],
   "source": [
    "import numpy as np\n",
    "\n",
    "y = y.astype(np.uint8)"
   ]
  },
  {
   "cell_type": "markdown",
   "id": "e0f5be47",
   "metadata": {},
   "source": [
    "훈련 셋 & 테스트 셋 분리"
   ]
  },
  {
   "cell_type": "code",
   "execution_count": 11,
   "id": "85a722dc",
   "metadata": {},
   "outputs": [],
   "source": [
    "X_train, X_test, y_train, y_test = X[:60000], X[60000:], y[:60000], y[60000:]"
   ]
  },
  {
   "cell_type": "markdown",
   "id": "12e1dc20",
   "metadata": {},
   "source": [
    "어떤 학습 알고리즘은 훈련 샘플의 순서에 민감해서 많은 비슷한 샘플이 연이어 나타나면 성능이 나빠진다.  \n",
    "   - 데이터셋을 섞어 문제를 방지할 수 있다."
   ]
  },
  {
   "cell_type": "markdown",
   "id": "54baf9c4",
   "metadata": {},
   "source": [
    "## 3.2 이진 분류기 훈련"
   ]
  },
  {
   "cell_type": "code",
   "execution_count": 12,
   "id": "edff5e12",
   "metadata": {},
   "outputs": [],
   "source": [
    "# 5는 True, 다른 숫자는 False\n",
    "y_train_5 = (y_train==5)\n",
    "y_test_5 = (y_test==5)"
   ]
  },
  {
   "cell_type": "markdown",
   "id": "63224dc6",
   "metadata": {},
   "source": [
    "분류 모델을 하나 선택해서 훈련 시작  \n",
    "Sklearn의 SGDClassifier 클래스를 사용해 SGD 분류기로 시작해보기\n",
    "   - SGD 분류기는 매우 큰 데이터셋을 효율적으로 처리하는 장점을 지니고 있다.\n",
    "   - SGD가 한 번에 하나씩 훈련 샘플을 독립적으로 처리하기 때문 (온라인 학습에 최적)"
   ]
  },
  {
   "cell_type": "code",
   "execution_count": 13,
   "id": "34f55261",
   "metadata": {},
   "outputs": [
    {
     "data": {
      "text/plain": [
       "SGDClassifier(random_state=42)"
      ]
     },
     "execution_count": 13,
     "metadata": {},
     "output_type": "execute_result"
    }
   ],
   "source": [
    "from sklearn.linear_model import SGDClassifier\n",
    "\n",
    "sgd_clf = SGDClassifier(random_state=42)\n",
    "sgd_clf.fit(X_train, y_train_5)"
   ]
  },
  {
   "cell_type": "code",
   "execution_count": 14,
   "id": "43d966e9",
   "metadata": {},
   "outputs": [
    {
     "data": {
      "text/plain": [
       "array([ True])"
      ]
     },
     "execution_count": 14,
     "metadata": {},
     "output_type": "execute_result"
    }
   ],
   "source": [
    "sgd_clf.predict([some_digit])"
   ]
  },
  {
   "cell_type": "markdown",
   "id": "8c03758e",
   "metadata": {},
   "source": [
    "5를 5로 예측 >> 정확히 맞춘 case"
   ]
  },
  {
   "cell_type": "markdown",
   "id": "404c3b38",
   "metadata": {},
   "source": [
    "## 3.3 성능 측정"
   ]
  },
  {
   "cell_type": "markdown",
   "id": "b77fa8cd",
   "metadata": {},
   "source": [
    "### 3.3.1 교차 검증을 사용한 정확도 측정\n",
    "   - StratifiedKFold: 클래스별 비율이 유지되도록 폴드를 만들기 위해 계층적 샘플링 수행\n",
    "   - cross_val_score"
   ]
  },
  {
   "cell_type": "code",
   "execution_count": 17,
   "id": "07115991",
   "metadata": {},
   "outputs": [
    {
     "name": "stdout",
     "output_type": "stream",
     "text": [
      "0.9669\n",
      "0.91625\n",
      "0.96785\n"
     ]
    }
   ],
   "source": [
    "from sklearn.model_selection import StratifiedKFold\n",
    "from sklearn.base import clone\n",
    "\n",
    "skfolds = StratifiedKFold(n_splits=3, random_state=42, shuffle=True)\n",
    "for tr_idx, te_idx in skfolds.split(X_train, y_train_5):\n",
    "    clone_clf = clone(sgd_clf)\n",
    "    X_train_folds = X_train.iloc[tr_idx]\n",
    "    y_train_folds = y_train_5.iloc[tr_idx]\n",
    "    X_test_fold = X_train.iloc[te_idx]\n",
    "    y_test_fold = y_train_5.iloc[te_idx]\n",
    "    \n",
    "    clone_clf.fit(X_train_folds, y_train_folds)\n",
    "    y_pred = clone_clf.predict(X_test_fold)\n",
    "    n_correct = sum(y_pred==y_test_fold)\n",
    "    print(n_correct / len(y_pred))"
   ]
  },
  {
   "cell_type": "code",
   "execution_count": 18,
   "id": "a15fe205",
   "metadata": {},
   "outputs": [
    {
     "data": {
      "text/plain": [
       "array([0.95035, 0.96035, 0.9604 ])"
      ]
     },
     "execution_count": 18,
     "metadata": {},
     "output_type": "execute_result"
    }
   ],
   "source": [
    "from sklearn.model_selection import cross_val_score\n",
    "cross_val_score(sgd_clf, X_train, y_train_5, cv=3, scoring='accuracy')"
   ]
  },
  {
   "cell_type": "code",
   "execution_count": 19,
   "id": "e373da5f",
   "metadata": {},
   "outputs": [],
   "source": [
    "from sklearn.base import BaseEstimator\n",
    "\n",
    "class Never5Classifier(BaseEstimator):\n",
    "    def fit(self, X, y=None):\n",
    "        return self\n",
    "    def predict(self, X):\n",
    "        return np.zeros((len(X),1), dtype=bool)"
   ]
  },
  {
   "cell_type": "code",
   "execution_count": 20,
   "id": "51f26b8c",
   "metadata": {},
   "outputs": [
    {
     "data": {
      "text/plain": [
       "array([0.91125, 0.90855, 0.90915])"
      ]
     },
     "execution_count": 20,
     "metadata": {},
     "output_type": "execute_result"
    }
   ],
   "source": [
    "never_5_clf = Never5Classifier()\n",
    "cross_val_score(never_5_clf, X_train, y_train_5, cv=3, scoring='accuracy')"
   ]
  },
  {
   "cell_type": "markdown",
   "id": "31b1edc5",
   "metadata": {},
   "source": [
    "이미지의 10% 정도만 숫자가 5이기 때문에 무조건 5 아님으로 예측하면 정확도가 90%  \n",
    "정확도를 분류기의 성능 측정 지표로 선호하지 않는 이유를 볼 수 있음. (특히 불균형한 데이터셋)"
   ]
  },
  {
   "cell_type": "markdown",
   "id": "14c27132",
   "metadata": {},
   "source": [
    "### 3.3.2 오차 행렬 Confusion Matrix\n",
    "   - 오차 행렬을 만들려면 실제 타깃과 비교할 수 있는 예측값을 만들어야 함.\n",
    "   - cross_val_predict()\n",
    "       - k-fold 교차 검증을 수행하지만 평가 점수를 반환하지 않고 각 테스트 폴드에서 얻은 예측을 반환\n",
    "       - 훈련셋의 모든 샘플에 대해 깨끗한 예측 (깨끗하다는 뜻은 모델이 훈련하는 동안 보지 못했던 데이터에 대한 예측)"
   ]
  },
  {
   "cell_type": "code",
   "execution_count": 21,
   "id": "f7a81d4e",
   "metadata": {},
   "outputs": [],
   "source": [
    "from sklearn.model_selection import cross_val_predict\n",
    "\n",
    "y_train_pred = cross_val_predict(sgd_clf, X_train, y_train_5, cv=3)"
   ]
  },
  {
   "cell_type": "code",
   "execution_count": 22,
   "id": "d6cb0dd1",
   "metadata": {},
   "outputs": [
    {
     "data": {
      "text/plain": [
       "array([[53892,   687],\n",
       "       [ 1891,  3530]], dtype=int64)"
      ]
     },
     "execution_count": 22,
     "metadata": {},
     "output_type": "execute_result"
    }
   ],
   "source": [
    "from sklearn.metrics import confusion_matrix\n",
    "confusion_matrix(y_train_5, y_train_pred)"
   ]
  },
  {
   "cell_type": "markdown",
   "id": "8a363f25",
   "metadata": {},
   "source": [
    "오차행렬의 행: 실제 클래스  \n",
    "   - 첫번째 행: 5 아님\n",
    "   - 두번째 행: 5\n",
    "오차행렬의 열: 예측 클래스\n",
    "   - 첫번째 열: 5 아님으로 예측\n",
    "   - 두번째 열: 5로 예측\n",
    "   \n",
    "   \n",
    "  - 53892는 5 아님을 5아님으로 정확하게 예측 (실제 음성, TN)\n",
    "  - 687은 5 아님을 5라고 예측 (거짓 양성, FP)\n",
    "  - 1891은 5를 5아님으로 예측 (거짓 음성, FN)\n",
    "  - 3530은 5를 5라고 정확하게 예측 (실제 양성, TP)"
   ]
  },
  {
   "cell_type": "markdown",
   "id": "702181ed",
   "metadata": {},
   "source": [
    "#### Confusion Matrix Img\n",
    "<img src=\"confusionMatrix.PNG\"  width=\"700\" height=\"370\">"
   ]
  },
  {
   "cell_type": "markdown",
   "id": "4c9cf7fd",
   "metadata": {},
   "source": [
    "### 3.3.3 정밀도와 재현율"
   ]
  },
  {
   "cell_type": "code",
   "execution_count": 28,
   "id": "4e76b8c0",
   "metadata": {},
   "outputs": [
    {
     "data": {
      "text/plain": [
       "(0.8370879772350012, 0.6511713705958311)"
      ]
     },
     "execution_count": 28,
     "metadata": {},
     "output_type": "execute_result"
    }
   ],
   "source": [
    "from sklearn.metrics import precision_score, recall_score\n",
    "precision_score(y_train_5, y_train_pred), recall_score(y_train_5, y_train_pred)"
   ]
  },
  {
   "cell_type": "markdown",
   "id": "61f2025c",
   "metadata": {},
   "source": [
    "#### F1 Score: 정밀도와 재현율의 조화평균"
   ]
  },
  {
   "cell_type": "code",
   "execution_count": 30,
   "id": "f91981a4",
   "metadata": {},
   "outputs": [
    {
     "data": {
      "text/plain": [
       "0.7325171197343846"
      ]
     },
     "execution_count": 30,
     "metadata": {},
     "output_type": "execute_result"
    }
   ],
   "source": [
    "from sklearn.metrics import f1_score\n",
    "f1_score(y_train_5, y_train_pred)"
   ]
  },
  {
   "cell_type": "markdown",
   "id": "2d74c5f4",
   "metadata": {},
   "source": [
    "정밀도와 재현율이 비슷한 분류기에서는 F1 스코어가 높다.  \n",
    "이게 항상 바람직한 것은 아니다. (상황에 따라 정밀도가 중요할 수도 있고 재현율이 중요할 수도 있음)  \n",
    "   - 높은 정밀도 중요: 어린아이에게 안전한 동영상 걸러내는 분류기\n",
    "       - 재현율이 높으나 정말 나쁜 동영상이 몇 개 노출되는 것보다 좋은 동영상이 많이 제외되더라도 (낮은 재현율) 안전한 것들만 노출 (높은 정밀도)\n",
    "   - 높은 재현율 중요: 감시 카메라 도둑 잡아내는 분류기\n",
    "       - 경비원이 잘못된 호출을 종종 받게 되지만, 거의 모든 도둑을 잡을 것\n",
    "       \n",
    "  \n",
    "  정밀도/재현율 트레이드오프: 정밀도를 올리면 재현율이 줄고 그 반대도 마찬가지"
   ]
  },
  {
   "attachments": {},
   "cell_type": "markdown",
   "id": "4721c5fd",
   "metadata": {},
   "source": [
    "### 3.3.4 정밀도/재현율 트레이드오프\n",
    "   - 임곗값\n",
    "       - 임곗값을 높이면 거짓 양성이 진짜 음성이 되어 정밀도가 높아지고 재현율은 줄어든다.\n",
    "       - 임곗값을 낮추면, 재현율이 높아지고 정밀도가 줄어든다.\n",
    "       \n",
    "#### 정밀도/재현율 트레이드오프 Img\n",
    "<img src=\"Precision_Recall_Tradeoff.PNG\"  width=\"700\" height=\"370\">"
   ]
  },
  {
   "cell_type": "markdown",
   "id": "f683a720",
   "metadata": {},
   "source": [
    "분류기의 predict() 메서드 대신 decision_fuction() 메서드를 호출하면 각 샘플의 점수를 얻을 수 있다.  \n",
    "이 점수를 기반으로 원하는 임곗값을 정해 예측을 만들 수 있다."
   ]
  },
  {
   "cell_type": "code",
   "execution_count": 31,
   "id": "0276e7c1",
   "metadata": {},
   "outputs": [
    {
     "data": {
      "text/plain": [
       "array([2164.22030239])"
      ]
     },
     "execution_count": 31,
     "metadata": {},
     "output_type": "execute_result"
    }
   ],
   "source": [
    "y_scores = sgd_clf.decision_function([some_digit])\n",
    "y_scores"
   ]
  },
  {
   "cell_type": "code",
   "execution_count": 33,
   "id": "840654e8",
   "metadata": {},
   "outputs": [
    {
     "data": {
      "text/plain": [
       "array([ True])"
      ]
     },
     "execution_count": 33,
     "metadata": {},
     "output_type": "execute_result"
    }
   ],
   "source": [
    "threshold = 0\n",
    "y_some_digit_pred = (y_scores>threshold)\n",
    "y_some_digit_pred"
   ]
  },
  {
   "cell_type": "code",
   "execution_count": 34,
   "id": "3b60bded",
   "metadata": {},
   "outputs": [
    {
     "data": {
      "text/plain": [
       "array([False])"
      ]
     },
     "execution_count": 34,
     "metadata": {},
     "output_type": "execute_result"
    }
   ],
   "source": [
    "threshold = 8000\n",
    "y_some_digit_pred = (y_scores>threshold)\n",
    "y_some_digit_pred"
   ]
  },
  {
   "cell_type": "markdown",
   "id": "ec1c367f",
   "metadata": {},
   "source": [
    "임곗값이 0이므로 predict와 동일한 결과 반환  \n",
    "임곗값이 8000일때는 재현율이 줄어든다는 것을 보여줌.\n",
    "  \n",
    "  \n",
    "그렇다면 적절한 임곗값을 어떻게 정할 수 있는가?\n",
    "   - cross_val_predict() 함수를 사용해 훈련 셋에 있는 모든 샘플의 점수를 구해야 한다.\n",
    "   - 결정 함수를 반환받도록 지정해야 함.\n",
    "     "
   ]
  },
  {
   "cell_type": "code",
   "execution_count": 35,
   "id": "f8211ec5",
   "metadata": {},
   "outputs": [],
   "source": [
    "y_scores = cross_val_predict(sgd_clf, X_train, y_train_5, cv=3, method='decision_function')"
   ]
  },
  {
   "cell_type": "markdown",
   "id": "5bd9db85",
   "metadata": {},
   "source": [
    "#### precision_recall_curve()\n",
    "   - 가능한 모든 임곗값에 대해 정밀도와 재현율을 계산할 수 있다."
   ]
  },
  {
   "cell_type": "code",
   "execution_count": 36,
   "id": "1aa60565",
   "metadata": {},
   "outputs": [],
   "source": [
    "from sklearn.metrics import precision_recall_curve\n",
    "\n",
    "precisions, recalls, thresholds = precision_recall_curve(y_train_5, y_scores)"
   ]
  },
  {
   "cell_type": "code",
   "execution_count": 40,
   "id": "b486226e",
   "metadata": {},
   "outputs": [
    {
     "data": {
      "image/png": "[encoded data removed]",
      "text/plain": [
       "<Figure size 432x288 with 1 Axes>"
      ]
     },
     "metadata": {
      "needs_background": "light"
     },
     "output_type": "display_data"
    }
   ],
   "source": [
    "import warnings\n",
    "warnings.filterwarnings('ignore')\n",
    "\n",
    "def plot_precision_recall_vs_threshold(precisions, recalls, thresholds):\n",
    "    plt.plot(thresholds, precisions[:-1], \"b--\", label=\"precisions\")\n",
    "    plt.plot(thresholds, recalls[:-1], \"g-\", label=\"recalls\")\n",
    "    plt.legend()\n",
    "    plt.xlabel(\"임곗값\")\n",
    "    plt.grid()\n",
    "    \n",
    "plot_precision_recall_vs_threshold(precisions,recalls, thresholds)\n",
    "plt.show()"
   ]
  },
  {
   "cell_type": "markdown",
   "id": "6875c09b",
   "metadata": {},
   "source": [
    "정밀도 곡선이 재현율 곡선보다 왜 더 울퉁불퉁한가?\n",
    "   - 임곗값을 올리더라도 정밀도가 가끔 낮아질 때가 있기 때문. (일반적으로는 높아져야 함.)\n",
    "   - 가운데 임곗값에서 오른쪽으로 숫자 하나만큼 이동하면 어떻게 될까요?\n",
    "       - 정밀도는 올라가고 재현율은 내려간다."
   ]
  },
  {
   "cell_type": "code",
   "execution_count": 44,
   "id": "3c89812a",
   "metadata": {},
   "outputs": [
    {
     "data": {
      "image/png": "[encoded data removed]",
      "text/plain": [
       "<Figure size 432x288 with 1 Axes>"
      ]
     },
     "metadata": {
      "needs_background": "light"
     },
     "output_type": "display_data"
    }
   ],
   "source": [
    "plt.plot(recalls[:-1], precisions[:-1])\n",
    "plt.grid()\n",
    "plt.xlabel(\"recalls\")\n",
    "plt.ylabel(\"precisions\")\n",
    "plt.show()"
   ]
  },
  {
   "cell_type": "markdown",
   "id": "0aee916b",
   "metadata": {},
   "source": [
    "재현율 80% 근처에서 정밀도가 급격하게 줄어들기 시작함.  \n",
    "이 하강점 직전을 정밀도/재현율 트레이드오프로 선택하는 것이 좋다.  \n",
    "ex. 재현율 60% 정도 지점 (물론 프로젝트에 따라 선택이 달라진다.)  \n",
    "  \n",
    "정밀도 90% 달성 목표로 가정)\n",
    "   - 현재임곗값은 약 8,000정도\n",
    "   - 조금 더 정확하게 최소한 90% 정밀도가 되는 가장 낮은 임곗값 찾을 수 있음."
   ]
  },
  {
   "cell_type": "code",
   "execution_count": 45,
   "id": "5e400d95",
   "metadata": {},
   "outputs": [],
   "source": [
    "threshold_90_precision = thresholds[np.argmax(precisions >= 0.90)]"
   ]
  },
  {
   "cell_type": "code",
   "execution_count": 46,
   "id": "e96f9f0d",
   "metadata": {},
   "outputs": [
    {
     "data": {
      "text/plain": [
       "3370.0194991439557"
      ]
     },
     "execution_count": 46,
     "metadata": {},
     "output_type": "execute_result"
    }
   ],
   "source": [
    "threshold_90_precision"
   ]
  },
  {
   "cell_type": "code",
   "execution_count": 47,
   "id": "3261b073",
   "metadata": {},
   "outputs": [],
   "source": [
    "y_train_pred_90 = (y_scores >= threshold_90_precision)"
   ]
  },
  {
   "cell_type": "code",
   "execution_count": 48,
   "id": "0d528959",
   "metadata": {},
   "outputs": [
    {
     "data": {
      "text/plain": [
       "0.9000345901072293"
      ]
     },
     "execution_count": 48,
     "metadata": {},
     "output_type": "execute_result"
    }
   ],
   "source": [
    "precision_score(y_train_5, y_train_pred_90)"
   ]
  },
  {
   "cell_type": "code",
   "execution_count": 49,
   "id": "bfe75c41",
   "metadata": {},
   "outputs": [
    {
     "data": {
      "text/plain": [
       "0.4799852425751706"
      ]
     },
     "execution_count": 49,
     "metadata": {},
     "output_type": "execute_result"
    }
   ],
   "source": [
    "recall_score(y_train_5, y_train_pred_90)"
   ]
  },
  {
   "attachments": {},
   "cell_type": "markdown",
   "id": "a708dfe9",
   "metadata": {},
   "source": [
    "### 3.3.5 ROC 곡선\n",
    "   - 수신기 조작 특성 (ROC) 곡선도 이진 분류에서 널리 사용하는 도구\n",
    "   - 거짓양성비율(FPR)에 대한 진짜 양성 비율 (TPR, 재현율의 다른 이름)의 곡선\n",
    "   - FPR: 1-특이도\n",
    "   \n",
    "#### ROC 곡선 Img\n",
    "<img src=\"ROC_curve.PNG\"  width=\"700\" height=\"370\">"
   ]
  },
  {
   "cell_type": "markdown",
   "id": "dbff96ee",
   "metadata": {},
   "source": [
    "#### roc_curve"
   ]
  },
  {
   "cell_type": "code",
   "execution_count": 50,
   "id": "73cd763f",
   "metadata": {},
   "outputs": [],
   "source": [
    "from sklearn.metrics import roc_curve\n",
    "\n",
    "fpr, tpr, thresholds = roc_curve(y_train_5, y_scores)"
   ]
  },
  {
   "cell_type": "code",
   "execution_count": 51,
   "id": "a476d252",
   "metadata": {},
   "outputs": [
    {
     "data": {
      "image/png": "[encoded data removed]",
      "text/plain": [
       "<Figure size 432x288 with 1 Axes>"
      ]
     },
     "metadata": {
      "needs_background": "light"
     },
     "output_type": "display_data"
    }
   ],
   "source": [
    "def plot_roc_curve(fpr,tpr,label=None):\n",
    "    plt.plot(fpr,tpr,linewidth=2, label=label)\n",
    "    plt.plot([0,1],[0,1], 'k--') # 대각 점선\n",
    "    plt.grid()\n",
    "    plt.xlabel(\"FPR\")\n",
    "    plt.ylabel(\"TPR\")\n",
    "    \n",
    "plot_roc_curve(fpr,tpr)\n",
    "plt.show()"
   ]
  },
  {
   "cell_type": "raw",
   "id": "ccc1cb8d",
   "metadata": {},
   "source": [
    "여기에서도 트레이드오프 존재  \n",
    "TPR 재현율이 높을수록 분류기가 만드는 거짓양성 FPR이 늘어난다.  \n",
    "점선은 완전한 랜덤 분류기의 ROC 곡선  \n",
    "좋은 분류기는 점선에서 최대한 멀리 떨어져 있어야 한다."
   ]
  },
  {
   "cell_type": "markdown",
   "id": "f1104b8e",
   "metadata": {},
   "source": [
    "#### roc_auc_score\n",
    "    - AUC 곡선 아래의 면적\n",
    "    - 완벽한 분류기는 roc의 auc가 1\n",
    "    - 완전한 랜덤 분류기는 0.5"
   ]
  },
  {
   "cell_type": "code",
   "execution_count": 52,
   "id": "6f56e910",
   "metadata": {},
   "outputs": [
    {
     "data": {
      "text/plain": [
       "0.9604938554008616"
      ]
     },
     "execution_count": 52,
     "metadata": {},
     "output_type": "execute_result"
    }
   ],
   "source": [
    "from sklearn.metrics import roc_auc_score\n",
    "\n",
    "roc_auc_score(y_train_5, y_scores)"
   ]
  },
  {
   "cell_type": "markdown",
   "id": "8731e742",
   "metadata": {},
   "source": [
    "ROC 곡선이 정밀도/재현율 곡선과 비슷해서 어떤 것을 사용해야 할지 궁금할 수 있다.  \n",
    "일반적인 법칙은 양성 클래스가 드물거나 거짓 음성보다 거짓 양성이 더 중요할 때 PR 곡선을 사용  \n",
    "그렇지 않으면 ROC곡선을 사용\n",
    "  \n",
    "ex)\n",
    "   - ROC곡선을 보면 매우 좋은 분류기라 생각할 수 있다.\n",
    "   - 하지만, 음성(5 아님)에 비해 양성(5)이 크게 적기 때문\n",
    "   - 이와는 다르게 PR곡선은 분류기의 성능 개선 여지가 얼마나 되는지 잘 보여준다."
   ]
  },
  {
   "cell_type": "markdown",
   "id": "b2366dce",
   "metadata": {},
   "source": [
    "RandomForestClassifier를 훈련해 SGDClassifier의 ROC 곡선과 ROC AUC 점수 비교"
   ]
  },
  {
   "cell_type": "code",
   "execution_count": 53,
   "id": "69374463",
   "metadata": {},
   "outputs": [],
   "source": [
    "from sklearn.ensemble import RandomForestClassifier\n",
    "\n",
    "forest_clf = RandomForestClassifier(random_state=42)\n",
    "y_probas_forest = cross_val_predict(forest_clf, X_train, y_train_5, cv=3,\n",
    "                                   method=\"predict_proba\")"
   ]
  },
  {
   "cell_type": "markdown",
   "id": "b70e5e08",
   "metadata": {},
   "source": [
    "RandomForestClassifier는 decision_function 메서드가 없고 predict_proba가 있음"
   ]
  },
  {
   "cell_type": "code",
   "execution_count": 54,
   "id": "9a1a61c9",
   "metadata": {},
   "outputs": [],
   "source": [
    "# 양성 클래스에 대한 확률을 점수로 사용\n",
    "y_scores_forest = y_probas_forest[:,1]\n",
    "fpr_forest, tpr_forest, thresholds_torest = roc_curve(y_train_5, y_scores_forest)"
   ]
  },
  {
   "cell_type": "code",
   "execution_count": 55,
   "id": "91cfc6cf",
   "metadata": {},
   "outputs": [
    {
     "data": {
      "image/png": "[encoded data removed]",
      "text/plain": [
       "<Figure size 432x288 with 1 Axes>"
      ]
     },
     "metadata": {
      "needs_background": "light"
     },
     "output_type": "display_data"
    }
   ],
   "source": [
    "plt.plot(fpr,tpr,\"b:\", label=\"SGD\")\n",
    "plot_roc_curve(fpr_forest, tpr_forest, \"RandomForest\")\n",
    "plt.legend(loc=\"lower right\")\n",
    "plt.show()"
   ]
  },
  {
   "cell_type": "markdown",
   "id": "83bf15cc",
   "metadata": {},
   "source": [
    "ROC 곡선 비교\n",
    "   - 랜덤포레스트가 훨씬 좋음\n",
    "   - 왼쪽 위 모서리에 더 가까워 auc값이 더 크기 때문"
   ]
  },
  {
   "cell_type": "code",
   "execution_count": 56,
   "id": "a27758a5",
   "metadata": {},
   "outputs": [
    {
     "data": {
      "text/plain": [
       "0.9983436731328145"
      ]
     },
     "execution_count": 56,
     "metadata": {},
     "output_type": "execute_result"
    }
   ],
   "source": [
    "roc_auc_score(y_train_5, y_scores_forest)"
   ]
  },
  {
   "cell_type": "markdown",
   "id": "be8e7f6e",
   "metadata": {},
   "source": [
    "## 3.4 다중 분류\n",
    "   - 이미지를 분류할 때 각 분류기의 결정 점수 중에서 가장 높은 것을 클래스로 선택하면 된다.\n",
    "       - 이를 OvR(one-versus-the-rest) 전략이라고 한다.\n",
    "       - 또는 OvA(one-versus-all) 전략이라고도 한다.\n",
    "   - 또 다른 전략은 0과 1 구별, 0과 2 구별, 1과 2 구별 등과 같이 각 숫자의 조합마다 이진 분류기를 훈련시키는 것\n",
    "       - 이를 OvO(one-versus-one) 전략이라고 한다.\n",
    "       - 클래스가 N개라면 분류기는 Nx(N-1)/2개 필요\n",
    "       - MNIST의 경우 10X9/2\n",
    "       - 이미지 하나를 분류하려면 45개 분류기 모두 통과시켜서 가장 많이 양성으로 분류된 클래스를 선택\n",
    "       - OvO 전략 장점: 각 분류기의 훈련에 전체 훈련 셋 중 구별할 두 클래스에 해당하는 샘플만 필요하다는 것\n",
    "       \n",
    "  \n",
    "SVM과 같은 일부 알고리즘은 훈련 셋의 크기에 민감해서 큰 훈련 셋에서 몇 개의 분류기를 훈련시키는 것보다 작은 훈련 셋에서 많은 분류기를 훈련시키는 쪽이 빠르므로 OvO를 선호한다. 하지만 대부분의 이진 분류 알고리즘에서는 OvR을 선호한다.\n",
    "  \n",
    "다중 클래스 분류 작업에 이진 분류 알고리즘을 선택하면 사이킷런이 알고리즘에 따라 자동으로 OvR 또는 OvO를 실행"
   ]
  },
  {
   "attachments": {
    "image.png": {
     "image/png": "[encoded data removed]"
    }
   },
   "cell_type": "markdown",
   "id": "2d180581",
   "metadata": {},
   "source": [
    "#### OvR과 OvO Img\n",
    "![image.png](attachment:image.png)"
   ]
  },
  {
   "cell_type": "code",
   "execution_count": 57,
   "id": "9d2ad6fb",
   "metadata": {},
   "outputs": [
    {
     "data": {
      "text/plain": [
       "array([5], dtype=uint8)"
      ]
     },
     "execution_count": 57,
     "metadata": {},
     "output_type": "execute_result"
    }
   ],
   "source": [
    "from sklearn.svm import SVC\n",
    "svm_clf = SVC()\n",
    "svm_clf.fit(X_train, y_train)\n",
    "svm_clf.predict([some_digit])"
   ]
  },
  {
   "cell_type": "markdown",
   "id": "b68437c2",
   "metadata": {},
   "source": [
    "이 코드는 0에서 9까지의 원래 타깃 클래스를 사용해 SVC 훈련  \n",
    "그런 다음 예측 (5를 5로 정확히 예측)  \n",
    "내부에서는 사이킷런이 OvO 전략을 사용해 45개의 이진분류기를 훈련시키고 각각의 결정점수를 얻어 점수가 가장 높은 클래스 선정"
   ]
  },
  {
   "cell_type": "markdown",
   "id": "e4a2f9ed",
   "metadata": {},
   "source": [
    "정말 그런지 확인해보는 작업 decision_function\n",
    "   - 호출하면, 샘플당 10개의 점수 반환"
   ]
  },
  {
   "cell_type": "code",
   "execution_count": 58,
   "id": "83360c1c",
   "metadata": {},
   "outputs": [
    {
     "data": {
      "text/plain": [
       "array([[ 1.72501977,  2.72809088,  7.2510018 ,  8.3076379 , -0.31087254,\n",
       "         9.3132482 ,  1.70975103,  2.76765202,  6.23049537,  4.84771048]])"
      ]
     },
     "execution_count": 58,
     "metadata": {},
     "output_type": "execute_result"
    }
   ],
   "source": [
    "some_digit_scores = svm_clf.decision_function([some_digit])\n",
    "some_digit_scores"
   ]
  },
  {
   "cell_type": "markdown",
   "id": "71528e5a",
   "metadata": {},
   "source": [
    "가장 높은 점수가 클래스 5에 해당"
   ]
  },
  {
   "cell_type": "code",
   "execution_count": 59,
   "id": "a84ada5b",
   "metadata": {},
   "outputs": [
    {
     "data": {
      "text/plain": [
       "5"
      ]
     },
     "execution_count": 59,
     "metadata": {},
     "output_type": "execute_result"
    }
   ],
   "source": [
    "np.argmax(some_digit_scores)"
   ]
  },
  {
   "cell_type": "code",
   "execution_count": 60,
   "id": "0c2c64b8",
   "metadata": {},
   "outputs": [
    {
     "data": {
      "text/plain": [
       "array([0, 1, 2, 3, 4, 5, 6, 7, 8, 9], dtype=uint8)"
      ]
     },
     "execution_count": 60,
     "metadata": {},
     "output_type": "execute_result"
    }
   ],
   "source": [
    "svm_clf.classes_"
   ]
  },
  {
   "cell_type": "code",
   "execution_count": 61,
   "id": "7608112c",
   "metadata": {},
   "outputs": [
    {
     "data": {
      "text/plain": [
       "5"
      ]
     },
     "execution_count": 61,
     "metadata": {},
     "output_type": "execute_result"
    }
   ],
   "source": [
    "svm_clf.classes_[5]"
   ]
  },
  {
   "cell_type": "markdown",
   "id": "d3918be0",
   "metadata": {},
   "source": [
    "분류기가 훈련될 때 classes_ 속성에 타깃 클래스의 리스트를 값으로 정렬하여 저장  \n",
    "각 클래스의 인덱스가 클래스 값 자체와 같다. 하지만 일반적으로 이런 경우 드뭄"
   ]
  },
  {
   "cell_type": "markdown",
   "id": "10f173df",
   "metadata": {},
   "source": [
    "#### OneVsOneClassifier와 OneVsRestClassifier\n",
    "   - 사이킷런에서 OvO나 OvR 강제 사용하기\n",
    "   "
   ]
  },
  {
   "cell_type": "code",
   "execution_count": 62,
   "id": "03c8868d",
   "metadata": {},
   "outputs": [
    {
     "data": {
      "text/plain": [
       "array([5], dtype=uint8)"
      ]
     },
     "execution_count": 62,
     "metadata": {},
     "output_type": "execute_result"
    }
   ],
   "source": [
    "from sklearn.multiclass import OneVsRestClassifier\n",
    "\n",
    "ovr_clf = OneVsRestClassifier(SVC())\n",
    "ovr_clf.fit(X_train, y_train)\n",
    "ovr_clf.predict([some_digit])"
   ]
  },
  {
   "cell_type": "code",
   "execution_count": 63,
   "id": "cff0ec70",
   "metadata": {},
   "outputs": [
    {
     "data": {
      "text/plain": [
       "10"
      ]
     },
     "execution_count": 63,
     "metadata": {},
     "output_type": "execute_result"
    }
   ],
   "source": [
    "len(ovr_clf.estimators_)"
   ]
  },
  {
   "cell_type": "code",
   "execution_count": 64,
   "id": "717d3f8f",
   "metadata": {},
   "outputs": [
    {
     "data": {
      "text/plain": [
       "array([3], dtype=uint8)"
      ]
     },
     "execution_count": 64,
     "metadata": {},
     "output_type": "execute_result"
    }
   ],
   "source": [
    "sgd_clf.fit(X_train, y_train)\n",
    "sgd_clf.predict([some_digit])"
   ]
  },
  {
   "cell_type": "code",
   "execution_count": 65,
   "id": "171ed46a",
   "metadata": {},
   "outputs": [
    {
     "data": {
      "text/plain": [
       "array([[-31893.03095419, -34419.69069632,  -9530.63950739,\n",
       "          1823.73154031, -22320.14822878,  -1385.80478895,\n",
       "        -26188.91070951, -16147.51323997,  -4604.35491274,\n",
       "        -12050.767298  ]])"
      ]
     },
     "execution_count": 65,
     "metadata": {},
     "output_type": "execute_result"
    }
   ],
   "source": [
    "sgd_clf.decision_function([some_digit])"
   ]
  },
  {
   "cell_type": "markdown",
   "id": "e4ebe5f7",
   "metadata": {},
   "source": [
    "결과를 보면, 분류기가 예측 결과에 강한 확신을 보이고 있음  \n",
    "대부분의 점수가 큰 음수, 반면 클래스 5의 점수는 2412.5  \n",
    "이 모델은 573.5의 점수를 얻은 클래스 3을 조금 의심"
   ]
  },
  {
   "cell_type": "markdown",
   "id": "4214d0cd",
   "metadata": {},
   "source": [
    "#### cross_val_score 함수를 사용한 분류기 평가"
   ]
  },
  {
   "cell_type": "code",
   "execution_count": 66,
   "id": "3bf2c9f2",
   "metadata": {},
   "outputs": [
    {
     "data": {
      "text/plain": [
       "array([0.87365, 0.85835, 0.8689 ])"
      ]
     },
     "execution_count": 66,
     "metadata": {},
     "output_type": "execute_result"
    }
   ],
   "source": [
    "cross_val_score(sgd_clf, X_train, y_train, cv=3, scoring=\"accuracy\")"
   ]
  },
  {
   "cell_type": "markdown",
   "id": "84c772bc",
   "metadata": {},
   "source": [
    "모든 테스트 폴드에서 84% 이상을 얻음  \n",
    "입력의 스케일을 조정하여 정확도를 올려보자"
   ]
  },
  {
   "cell_type": "code",
   "execution_count": 67,
   "id": "3b0fb3b7",
   "metadata": {},
   "outputs": [
    {
     "data": {
      "text/plain": [
       "array([0.8983, 0.891 , 0.9018])"
      ]
     },
     "execution_count": 67,
     "metadata": {},
     "output_type": "execute_result"
    }
   ],
   "source": [
    "from sklearn.preprocessing import StandardScaler\n",
    "\n",
    "scaler= StandardScaler()\n",
    "X_train_scaled = scaler.fit_transform(X_train.astype(np.float64))\n",
    "cross_val_score(sgd_clf, X_train_scaled, y_train, cv=3, scoring=\"accuracy\")"
   ]
  },
  {
   "cell_type": "markdown",
   "id": "9bd51124",
   "metadata": {},
   "source": [
    "## 3.5 에러 분석"
   ]
  },
  {
   "cell_type": "markdown",
   "id": "cb466dc0",
   "metadata": {},
   "source": [
    "1. 데이터 준비 단계에서 가능한 선택 사항 탐색\n",
    "2. 여러 모델 시도\n",
    "3. 그 중 좋은 몇개를 골라 GridSearchCV를 사용해 하이퍼파라미터 튜닝\n",
    "4. 자동화"
   ]
  },
  {
   "cell_type": "markdown",
   "id": "096cce23",
   "metadata": {},
   "source": [
    "#### cross_val_predict 함수를 사용한 에러 분석"
   ]
  },
  {
   "cell_type": "code",
   "execution_count": 68,
   "id": "ec9aec62",
   "metadata": {},
   "outputs": [
    {
     "data": {
      "text/plain": [
       "array([[5577,    0,   22,    5,    8,   43,   36,    6,  225,    1],\n",
       "       [   0, 6400,   37,   24,    4,   44,    4,    7,  212,   10],\n",
       "       [  27,   27, 5220,   92,   73,   27,   67,   36,  378,   11],\n",
       "       [  22,   17,  117, 5227,    2,  203,   27,   40,  403,   73],\n",
       "       [  12,   14,   41,    9, 5182,   12,   34,   27,  347,  164],\n",
       "       [  27,   15,   30,  168,   53, 4444,   75,   14,  535,   60],\n",
       "       [  30,   15,   42,    3,   44,   97, 5552,    3,  131,    1],\n",
       "       [  21,   10,   51,   30,   49,   12,    3, 5684,  195,  210],\n",
       "       [  17,   63,   48,   86,    3,  126,   25,   10, 5429,   44],\n",
       "       [  25,   18,   30,   64,  118,   36,    1,  179,  371, 5107]],\n",
       "      dtype=int64)"
      ]
     },
     "execution_count": 68,
     "metadata": {},
     "output_type": "execute_result"
    }
   ],
   "source": [
    "y_train_pred = cross_val_predict(sgd_clf, X_train_scaled, y_train, cv=3)\n",
    "conf_mx = confusion_matrix(y_train, y_train_pred)\n",
    "conf_mx"
   ]
  },
  {
   "cell_type": "markdown",
   "id": "d3762c8d",
   "metadata": {},
   "source": [
    "#### matshow() 함수를 사용한 이미지 표현"
   ]
  },
  {
   "cell_type": "code",
   "execution_count": 69,
   "id": "c981b494",
   "metadata": {},
   "outputs": [
    {
     "data": {
      "image/png": "[encoded data removed]",
      "text/plain": [
       "<Figure size 288x288 with 1 Axes>"
      ]
     },
     "metadata": {
      "needs_background": "light"
     },
     "output_type": "display_data"
    }
   ],
   "source": [
    "plt.matshow(conf_mx, cmap=plt.cm.gray)\n",
    "plt.show()"
   ]
  },
  {
   "cell_type": "markdown",
   "id": "f1cffa5e",
   "metadata": {},
   "source": [
    "대부분의 이미지가 올바르게 분류되었음을 나타내는 주 대각선에 있으므로 매우 좋아 보임  \n",
    "숫자 5는 다른 숫자보다 조금 더 어둡다.\n",
    "   - 이는 데이터셋에 숫자 5의 이미지가 적거나\n",
    "   - 분류기가 숫자 5를 다른 숫자만큼 잘 분류하지 못한다는 뜻\n",
    "   \n",
    "그래프의 에러 부분에 초점을 맞춰보자.\n",
    "   1. 오차 행렬의 각 값을 대응되는 클래스의 이미지 개수로 나누어 에러 비율을 비교\n",
    "   "
   ]
  },
  {
   "cell_type": "code",
   "execution_count": 70,
   "id": "77293b44",
   "metadata": {},
   "outputs": [],
   "source": [
    "row_sums = conf_mx.sum(axis=1, keepdims=True)\n",
    "norm_conf_mx = conf_mx / row_sums"
   ]
  },
  {
   "cell_type": "markdown",
   "id": "7f029ff3",
   "metadata": {},
   "source": [
    "다른 항목은 그대로 유지하고 주 대각선만 0으로 채워서 그래프를 그려보자."
   ]
  },
  {
   "cell_type": "code",
   "execution_count": 71,
   "id": "9b92ea74",
   "metadata": {},
   "outputs": [
    {
     "data": {
      "image/png": "[encoded data removed]",
      "text/plain": [
       "<Figure size 288x288 with 1 Axes>"
      ]
     },
     "metadata": {
      "needs_background": "light"
     },
     "output_type": "display_data"
    }
   ],
   "source": [
    "np.fill_diagonal(norm_conf_mx,0)\n",
    "plt.matshow(norm_conf_mx, cmap=plt.cm.gray)\n",
    "plt.show()"
   ]
  },
  {
   "cell_type": "markdown",
   "id": "f9a72656",
   "metadata": {},
   "source": [
    "여기서 분류기가 만든 에러를 확실히 볼 수 있다.  \n",
    "행은 실제 클래스, 열은 예측한 클래스  \n",
    "   - 클래스 8의 열이 상당히 밝으므로 많은 이미지가 8로 잘못 분류되었음을 암시\n",
    "   - 하지만, 8의 행은 그리 나쁘지 않다. >> 실제 8이 적절히 8로 분류되었다\n",
    "   - 오차 행렬은 반드시 대칭인 것은 아니다. 3과 5가 서로 많이 혼동되고 있음\n",
    "   - 오차 행렬을 분석하면 분류기의 성능 향상 방안에 대한 통찰을 얻을 수 있다.\n",
    "       - 8로 잘못 분류되는 것을 줄이도록 개선할 필요가 있다.\n",
    "           - ex) 8처럼 보이는 (실제 8은 아닌) 숫자의 훈련 데이터를 더 많이 모아서 실제 8과 구분하도록 분류기를 학습시킬 수 있다.\n",
    "           - ex2) 분류기에 도움 될 만한 특성을 더 찾아볼 수 있다. (동심원 수)\n",
    "           - ex3) 동심원 같은 어떤 패턴이 드러나도록 이미지를 전처리해볼 수 있다.\n",
    "       - 개개의 에러를 분석해보면 분류기가 무슨 일을 하고, 왜 잘못되었는지에 대해 통찰을 얻을 수 있지만, 더 어렵고 시간이 오래 걸린다."
   ]
  },
  {
   "cell_type": "markdown",
   "id": "535673a5",
   "metadata": {},
   "source": [
    "3과 5의 샘플을 그려보자"
   ]
  },
  {
   "cell_type": "code",
   "execution_count": 72,
   "id": "7de39a67",
   "metadata": {},
   "outputs": [],
   "source": [
    "cl_a, cl_b = 3,5\n",
    "X_aa = X_train[(y_train==cl_a) & (y_train_pred==cl_a)]\n",
    "X_ab = X_train[(y_train==cl_a) & (y_train_pred==cl_b)]\n",
    "X_ba = X_train[(y_train==cl_b) & (y_train_pred==cl_a)]\n",
    "X_bb = X_train[(y_train==cl_b) & (y_train_pred==cl_b)]"
   ]
  },
  {
   "cell_type": "code",
   "execution_count": 118,
   "id": "a4e7f7c2",
   "metadata": {},
   "outputs": [],
   "source": [
    "def plot_digits(instances, images_per_row=10, **options):\n",
    "    size = 28\n",
    "    images_per_row = min(len(instances), images_per_row)\n",
    "    # n_rows = ceil(len(instances) / images_per_row) 와 동일합니다:\n",
    "    n_rows = (len(instances) - 1) // images_per_row + 1\n",
    "\n",
    "    # 필요하면 그리드 끝을 채우기 위해 빈 이미지를 추가합니다:\n",
    "    n_empty = n_rows * images_per_row - len(instances)\n",
    "    padded_instances = np.concatenate([instances, np.zeros((n_empty, size * size))], axis=0)\n",
    "\n",
    "    # 배열의 크기를 바꾸어 28×28 이미지를 담은 그리드로 구성합니다:\n",
    "    image_grid = padded_instances.reshape((n_rows, images_per_row, size, size))\n",
    "\n",
    "    # 축 0(이미지 그리드의 수직축)과 2(이미지의 수직축)를 합치고 축 1과 3(두 수평축)을 합칩니다. \n",
    "    # 먼저 transpose()를 사용해 결합하려는 축을 옆으로 이동한 다음 합칩니다:\n",
    "    big_image = image_grid.transpose(0, 2, 1, 3).reshape(n_rows * size,\n",
    "                                                         images_per_row * size)\n",
    "    # 하나의 큰 이미지를 얻었으므로 출력하면 됩니다:\n",
    "    plt.imshow(big_image, cmap = mpl.cm.binary, **options)\n",
    "    plt.axis(\"off\")"
   ]
  },
  {
   "cell_type": "code",
   "execution_count": 119,
   "id": "8919a1d3",
   "metadata": {},
   "outputs": [
    {
     "data": {
      "image/png": "[encoded data removed]",
      "text/plain": [
       "<Figure size 576x576 with 4 Axes>"
      ]
     },
     "metadata": {
      "needs_background": "light"
     },
     "output_type": "display_data"
    }
   ],
   "source": [
    "plt.figure(figsize=(8,8))\n",
    "plt.subplot(221)\n",
    "plot_digits(X_aa[:25], images_per_row=5)\n",
    "plt.subplot(222)\n",
    "plot_digits(X_ab[:25], images_per_row=5)\n",
    "plt.subplot(223)\n",
    "plot_digits(X_ba[:25], images_per_row=5)\n",
    "plt.subplot(224)\n",
    "plot_digits(X_bb[:25], images_per_row=5)\n",
    "plt.show()"
   ]
  },
  {
   "cell_type": "markdown",
   "id": "ca9cf00c",
   "metadata": {},
   "source": [
    "왼쪽의 5x5 블록 두 개는 3으로 분류된 이미지  \n",
    "오른쪽 5x5 블록 두 개는 5로 분류된 이미지  \n",
    "  \n",
    "3과 5의 주요 차이는 위쪽 선과 아래쪽 호를 이어주는 작은 직선의 위치  \n",
    "숫자 3을 쓸 때 연결 부위가 조금 왼쪽으로 치우치면 분류기가 5로 분류하고, 또 반대도 마찬가지  \n",
    "다른 말로 하면 분류기는 이미지의 위치나 회전 방향에 매우 민감하다.  \n",
    "  \n",
    "  3과 5의 에러를 줄이는 한 가지 방법은 이미지를 중앙에 위치시키고 회전되어 있지 않도록 전처리하는 것"
   ]
  },
  {
   "cell_type": "markdown",
   "id": "715b90ed",
   "metadata": {},
   "source": [
    "## 3.6 다중 레이블 분류\n",
    "   - 같은 사진에 여러 사람이 등장한다면 어떻게 해야 할까?\n",
    "   - [1,0,1] 앨리스 있음, 밥 없음, 찰리있음\n",
    "   - 여러 개의 이진 꼬리표를 출력하는 분류 시스템을 다중 레이블 분류 시스템이라고 한다."
   ]
  },
  {
   "cell_type": "code",
   "execution_count": 85,
   "id": "c12dc17a",
   "metadata": {},
   "outputs": [
    {
     "data": {
      "text/plain": [
       "KNeighborsClassifier()"
      ]
     },
     "execution_count": 85,
     "metadata": {},
     "output_type": "execute_result"
    }
   ],
   "source": [
    "from sklearn.neighbors import KNeighborsClassifier\n",
    "\n",
    "y_train_large = (y_train >= 7)\n",
    "y_train_odd = (y_train%2 == 1)\n",
    "y_multilabel = np.c_[y_train_large, y_train_odd]\n",
    "\n",
    "knn_clf = KNeighborsClassifier()\n",
    "knn_clf.fit(X_train, y_multilabel)"
   ]
  },
  {
   "cell_type": "markdown",
   "id": "e775fa3d",
   "metadata": {},
   "source": [
    "각 숫자 이미지에 두 개의 타깃 레이블이 담긴 y_multilabel 배열을 만든다.  \n",
    "첫 번째는 숫자가 큰 값 (7,8,9)인지 나타내고  \n",
    "두 번째는 홀수인지 나타낸다.  \n",
    "  \n",
    "KNeighborsClassifier 인스턴스를 만들고 다중 타깃 배열을 사용하여 훈련  \n",
    "(KNeighborsClassifier는 다중 레이블 분류를 지원하지만 모든 분류기가 그런 것은 아니다.)"
   ]
  },
  {
   "cell_type": "code",
   "execution_count": 86,
   "id": "6a8a845b",
   "metadata": {},
   "outputs": [
    {
     "data": {
      "text/plain": [
       "array([[False,  True]])"
      ]
     },
     "execution_count": 86,
     "metadata": {},
     "output_type": "execute_result"
    }
   ],
   "source": [
    "knn_clf.predict([some_digit])"
   ]
  },
  {
   "cell_type": "markdown",
   "id": "5b09946c",
   "metadata": {},
   "source": [
    "올바르게 분류\n",
    "   - 숫자 5는 크지 않고\n",
    "   - 홀수이다."
   ]
  },
  {
   "cell_type": "markdown",
   "id": "daf2f75d",
   "metadata": {},
   "source": [
    "#### 다중 레이블 분류기를 평가하는 방법\n",
    "   - 적절한 지표는 프로젝트에 따라 다르다.\n",
    "   - 예를 들어, 각 레이블의 F1 점수를 구하고\n",
    "   - 간단하게 평균 점수를 계산"
   ]
  },
  {
   "cell_type": "code",
   "execution_count": 87,
   "id": "846fdfae",
   "metadata": {},
   "outputs": [
    {
     "data": {
      "text/plain": [
       "0.976410265560605"
      ]
     },
     "execution_count": 87,
     "metadata": {},
     "output_type": "execute_result"
    }
   ],
   "source": [
    "y_train_knn_pred = cross_val_predict(knn_clf, X_train, y_multilabel, cv=3)\n",
    "f1_score(y_multilabel, y_train_knn_pred, average=\"macro\")"
   ]
  },
  {
   "cell_type": "markdown",
   "id": "a9cab94f",
   "metadata": {},
   "source": [
    "실제로는 아닐 수 있지만 모든 레이블의 가중치가 같다고 가정한 것  \n",
    "앨리스 사진이 밥이나 찰리 사진보다 훨씬 많다면 앨리스 사진에 대한 분류기의 점수에 더 높은 가중치를 둘 것  \n",
    "간단한 방법은 레이블에 클래스의 지지도 (즉, 타깃 레이블에 속한 샘플 수)를 가중치로 주는 것  \n",
    "이렇게 하려면 이전 코드에서 average='weighted'로 설정하면 된다."
   ]
  },
  {
   "cell_type": "markdown",
   "id": "dd7243e4",
   "metadata": {},
   "source": [
    "## 3.7 다중 출력 분류\n",
    "   - 다중 출력 다중 클래스 분류\n",
    "   - 다중 레이블 분류에서 한 레이블이 다중 클래스가 될 수 있도록 일반화한 것\n",
    "   - 여기에서는 분류와 회귀 사이의 경계는 때때로 모호\n",
    "       - 확실히 픽셀 강도 예측은 분류보다 회귀와 비슷\n",
    "       - 더욱이 다중 출력 시스템이 분류 작업에 국한되지도 않는다."
   ]
  },
  {
   "cell_type": "markdown",
   "id": "ecf7afd3",
   "metadata": {},
   "source": [
    "먼저, mnist 이미지에 추출한 훈련 셋과 테스트 셋에 넘파이의 randint 함수를 사용하여 픽셀 강도에 잡음을 추가  \n",
    "타깃 이미지는 원본 이미지가 될 것"
   ]
  },
  {
   "cell_type": "code",
   "execution_count": 90,
   "id": "f75ea25e",
   "metadata": {},
   "outputs": [],
   "source": [
    "noise = np.random.randint(0, 100, (len(X_train), 784))\n",
    "X_train_mod = X_train + noise\n",
    "noise = np.random.randint(0, 100, (len(X_test), 784))\n",
    "X_test_mod = X_test + noise\n",
    "y_train_mod = X_train\n",
    "y_test_mod = X_test"
   ]
  },
  {
   "cell_type": "markdown",
   "id": "08ab512e",
   "metadata": {},
   "source": [
    "테스트 셋에서 이미지 하나 선택 (여기서 테스트 데이터를 들여다 보는 것은 잘못된 것임을 눈치채야 함)  "
   ]
  },
  {
   "cell_type": "code",
   "execution_count": 116,
   "id": "a7372df8",
   "metadata": {},
   "outputs": [
    {
     "data": {
      "text/html": [
       "<div>\n",
       "<style scoped>\n",
       "    .dataframe tbody tr th:only-of-type {\n",
       "        vertical-align: middle;\n",
       "    }\n",
       "\n",
       "    .dataframe tbody tr th {\n",
       "        vertical-align: top;\n",
       "    }\n",
       "\n",
       "    .dataframe thead th {\n",
       "        text-align: right;\n",
       "    }\n",
       "</style>\n",
       "<table border=\"1\" class=\"dataframe\">\n",
       "  <thead>\n",
       "    <tr style=\"text-align: right;\">\n",
       "      <th></th>\n",
       "      <th>pixel1</th>\n",
       "      <th>pixel2</th>\n",
       "      <th>pixel3</th>\n",
       "      <th>pixel4</th>\n",
       "      <th>pixel5</th>\n",
       "      <th>pixel6</th>\n",
       "      <th>pixel7</th>\n",
       "      <th>pixel8</th>\n",
       "      <th>pixel9</th>\n",
       "      <th>pixel10</th>\n",
       "      <th>...</th>\n",
       "      <th>pixel775</th>\n",
       "      <th>pixel776</th>\n",
       "      <th>pixel777</th>\n",
       "      <th>pixel778</th>\n",
       "      <th>pixel779</th>\n",
       "      <th>pixel780</th>\n",
       "      <th>pixel781</th>\n",
       "      <th>pixel782</th>\n",
       "      <th>pixel783</th>\n",
       "      <th>pixel784</th>\n",
       "    </tr>\n",
       "  </thead>\n",
       "  <tbody>\n",
       "    <tr>\n",
       "      <th>0</th>\n",
       "      <td>0.0</td>\n",
       "      <td>0.0</td>\n",
       "      <td>0.0</td>\n",
       "      <td>0.0</td>\n",
       "      <td>0.0</td>\n",
       "      <td>0.0</td>\n",
       "      <td>0.0</td>\n",
       "      <td>0.0</td>\n",
       "      <td>0.0</td>\n",
       "      <td>0.0</td>\n",
       "      <td>...</td>\n",
       "      <td>0.0</td>\n",
       "      <td>0.0</td>\n",
       "      <td>0.0</td>\n",
       "      <td>0.0</td>\n",
       "      <td>0.0</td>\n",
       "      <td>0.0</td>\n",
       "      <td>0.0</td>\n",
       "      <td>0.0</td>\n",
       "      <td>0.0</td>\n",
       "      <td>0.0</td>\n",
       "    </tr>\n",
       "    <tr>\n",
       "      <th>1</th>\n",
       "      <td>0.0</td>\n",
       "      <td>0.0</td>\n",
       "      <td>0.0</td>\n",
       "      <td>0.0</td>\n",
       "      <td>0.0</td>\n",
       "      <td>0.0</td>\n",
       "      <td>0.0</td>\n",
       "      <td>0.0</td>\n",
       "      <td>0.0</td>\n",
       "      <td>0.0</td>\n",
       "      <td>...</td>\n",
       "      <td>0.0</td>\n",
       "      <td>0.0</td>\n",
       "      <td>0.0</td>\n",
       "      <td>0.0</td>\n",
       "      <td>0.0</td>\n",
       "      <td>0.0</td>\n",
       "      <td>0.0</td>\n",
       "      <td>0.0</td>\n",
       "      <td>0.0</td>\n",
       "      <td>0.0</td>\n",
       "    </tr>\n",
       "    <tr>\n",
       "      <th>2</th>\n",
       "      <td>0.0</td>\n",
       "      <td>0.0</td>\n",
       "      <td>0.0</td>\n",
       "      <td>0.0</td>\n",
       "      <td>0.0</td>\n",
       "      <td>0.0</td>\n",
       "      <td>0.0</td>\n",
       "      <td>0.0</td>\n",
       "      <td>0.0</td>\n",
       "      <td>0.0</td>\n",
       "      <td>...</td>\n",
       "      <td>0.0</td>\n",
       "      <td>0.0</td>\n",
       "      <td>0.0</td>\n",
       "      <td>0.0</td>\n",
       "      <td>0.0</td>\n",
       "      <td>0.0</td>\n",
       "      <td>0.0</td>\n",
       "      <td>0.0</td>\n",
       "      <td>0.0</td>\n",
       "      <td>0.0</td>\n",
       "    </tr>\n",
       "    <tr>\n",
       "      <th>3</th>\n",
       "      <td>0.0</td>\n",
       "      <td>0.0</td>\n",
       "      <td>0.0</td>\n",
       "      <td>0.0</td>\n",
       "      <td>0.0</td>\n",
       "      <td>0.0</td>\n",
       "      <td>0.0</td>\n",
       "      <td>0.0</td>\n",
       "      <td>0.0</td>\n",
       "      <td>0.0</td>\n",
       "      <td>...</td>\n",
       "      <td>0.0</td>\n",
       "      <td>0.0</td>\n",
       "      <td>0.0</td>\n",
       "      <td>0.0</td>\n",
       "      <td>0.0</td>\n",
       "      <td>0.0</td>\n",
       "      <td>0.0</td>\n",
       "      <td>0.0</td>\n",
       "      <td>0.0</td>\n",
       "      <td>0.0</td>\n",
       "    </tr>\n",
       "    <tr>\n",
       "      <th>4</th>\n",
       "      <td>0.0</td>\n",
       "      <td>0.0</td>\n",
       "      <td>0.0</td>\n",
       "      <td>0.0</td>\n",
       "      <td>0.0</td>\n",
       "      <td>0.0</td>\n",
       "      <td>0.0</td>\n",
       "      <td>0.0</td>\n",
       "      <td>0.0</td>\n",
       "      <td>0.0</td>\n",
       "      <td>...</td>\n",
       "      <td>0.0</td>\n",
       "      <td>0.0</td>\n",
       "      <td>0.0</td>\n",
       "      <td>0.0</td>\n",
       "      <td>0.0</td>\n",
       "      <td>0.0</td>\n",
       "      <td>0.0</td>\n",
       "      <td>0.0</td>\n",
       "      <td>0.0</td>\n",
       "      <td>0.0</td>\n",
       "    </tr>\n",
       "    <tr>\n",
       "      <th>...</th>\n",
       "      <td>...</td>\n",
       "      <td>...</td>\n",
       "      <td>...</td>\n",
       "      <td>...</td>\n",
       "      <td>...</td>\n",
       "      <td>...</td>\n",
       "      <td>...</td>\n",
       "      <td>...</td>\n",
       "      <td>...</td>\n",
       "      <td>...</td>\n",
       "      <td>...</td>\n",
       "      <td>...</td>\n",
       "      <td>...</td>\n",
       "      <td>...</td>\n",
       "      <td>...</td>\n",
       "      <td>...</td>\n",
       "      <td>...</td>\n",
       "      <td>...</td>\n",
       "      <td>...</td>\n",
       "      <td>...</td>\n",
       "      <td>...</td>\n",
       "    </tr>\n",
       "    <tr>\n",
       "      <th>59995</th>\n",
       "      <td>0.0</td>\n",
       "      <td>0.0</td>\n",
       "      <td>0.0</td>\n",
       "      <td>0.0</td>\n",
       "      <td>0.0</td>\n",
       "      <td>0.0</td>\n",
       "      <td>0.0</td>\n",
       "      <td>0.0</td>\n",
       "      <td>0.0</td>\n",
       "      <td>0.0</td>\n",
       "      <td>...</td>\n",
       "      <td>0.0</td>\n",
       "      <td>0.0</td>\n",
       "      <td>0.0</td>\n",
       "      <td>0.0</td>\n",
       "      <td>0.0</td>\n",
       "      <td>0.0</td>\n",
       "      <td>0.0</td>\n",
       "      <td>0.0</td>\n",
       "      <td>0.0</td>\n",
       "      <td>0.0</td>\n",
       "    </tr>\n",
       "    <tr>\n",
       "      <th>59996</th>\n",
       "      <td>0.0</td>\n",
       "      <td>0.0</td>\n",
       "      <td>0.0</td>\n",
       "      <td>0.0</td>\n",
       "      <td>0.0</td>\n",
       "      <td>0.0</td>\n",
       "      <td>0.0</td>\n",
       "      <td>0.0</td>\n",
       "      <td>0.0</td>\n",
       "      <td>0.0</td>\n",
       "      <td>...</td>\n",
       "      <td>0.0</td>\n",
       "      <td>0.0</td>\n",
       "      <td>0.0</td>\n",
       "      <td>0.0</td>\n",
       "      <td>0.0</td>\n",
       "      <td>0.0</td>\n",
       "      <td>0.0</td>\n",
       "      <td>0.0</td>\n",
       "      <td>0.0</td>\n",
       "      <td>0.0</td>\n",
       "    </tr>\n",
       "    <tr>\n",
       "      <th>59997</th>\n",
       "      <td>0.0</td>\n",
       "      <td>0.0</td>\n",
       "      <td>0.0</td>\n",
       "      <td>0.0</td>\n",
       "      <td>0.0</td>\n",
       "      <td>0.0</td>\n",
       "      <td>0.0</td>\n",
       "      <td>0.0</td>\n",
       "      <td>0.0</td>\n",
       "      <td>0.0</td>\n",
       "      <td>...</td>\n",
       "      <td>0.0</td>\n",
       "      <td>0.0</td>\n",
       "      <td>0.0</td>\n",
       "      <td>0.0</td>\n",
       "      <td>0.0</td>\n",
       "      <td>0.0</td>\n",
       "      <td>0.0</td>\n",
       "      <td>0.0</td>\n",
       "      <td>0.0</td>\n",
       "      <td>0.0</td>\n",
       "    </tr>\n",
       "    <tr>\n",
       "      <th>59998</th>\n",
       "      <td>0.0</td>\n",
       "      <td>0.0</td>\n",
       "      <td>0.0</td>\n",
       "      <td>0.0</td>\n",
       "      <td>0.0</td>\n",
       "      <td>0.0</td>\n",
       "      <td>0.0</td>\n",
       "      <td>0.0</td>\n",
       "      <td>0.0</td>\n",
       "      <td>0.0</td>\n",
       "      <td>...</td>\n",
       "      <td>0.0</td>\n",
       "      <td>0.0</td>\n",
       "      <td>0.0</td>\n",
       "      <td>0.0</td>\n",
       "      <td>0.0</td>\n",
       "      <td>0.0</td>\n",
       "      <td>0.0</td>\n",
       "      <td>0.0</td>\n",
       "      <td>0.0</td>\n",
       "      <td>0.0</td>\n",
       "    </tr>\n",
       "    <tr>\n",
       "      <th>59999</th>\n",
       "      <td>0.0</td>\n",
       "      <td>0.0</td>\n",
       "      <td>0.0</td>\n",
       "      <td>0.0</td>\n",
       "      <td>0.0</td>\n",
       "      <td>0.0</td>\n",
       "      <td>0.0</td>\n",
       "      <td>0.0</td>\n",
       "      <td>0.0</td>\n",
       "      <td>0.0</td>\n",
       "      <td>...</td>\n",
       "      <td>0.0</td>\n",
       "      <td>0.0</td>\n",
       "      <td>0.0</td>\n",
       "      <td>0.0</td>\n",
       "      <td>0.0</td>\n",
       "      <td>0.0</td>\n",
       "      <td>0.0</td>\n",
       "      <td>0.0</td>\n",
       "      <td>0.0</td>\n",
       "      <td>0.0</td>\n",
       "    </tr>\n",
       "  </tbody>\n",
       "</table>\n",
       "<p>60000 rows × 784 columns</p>\n",
       "</div>"
      ],
      "text/plain": [
       "       pixel1  pixel2  pixel3  pixel4  pixel5  pixel6  pixel7  pixel8  pixel9  \\\n",
       "0         0.0     0.0     0.0     0.0     0.0     0.0     0.0     0.0     0.0   \n",
       "1         0.0     0.0     0.0     0.0     0.0     0.0     0.0     0.0     0.0   \n",
       "2         0.0     0.0     0.0     0.0     0.0     0.0     0.0     0.0     0.0   \n",
       "3         0.0     0.0     0.0     0.0     0.0     0.0     0.0     0.0     0.0   \n",
       "4         0.0     0.0     0.0     0.0     0.0     0.0     0.0     0.0     0.0   \n",
       "...       ...     ...     ...     ...     ...     ...     ...     ...     ...   \n",
       "59995     0.0     0.0     0.0     0.0     0.0     0.0     0.0     0.0     0.0   \n",
       "59996     0.0     0.0     0.0     0.0     0.0     0.0     0.0     0.0     0.0   \n",
       "59997     0.0     0.0     0.0     0.0     0.0     0.0     0.0     0.0     0.0   \n",
       "59998     0.0     0.0     0.0     0.0     0.0     0.0     0.0     0.0     0.0   \n",
       "59999     0.0     0.0     0.0     0.0     0.0     0.0     0.0     0.0     0.0   \n",
       "\n",
       "       pixel10  ...  pixel775  pixel776  pixel777  pixel778  pixel779  \\\n",
       "0          0.0  ...       0.0       0.0       0.0       0.0       0.0   \n",
       "1          0.0  ...       0.0       0.0       0.0       0.0       0.0   \n",
       "2          0.0  ...       0.0       0.0       0.0       0.0       0.0   \n",
       "3          0.0  ...       0.0       0.0       0.0       0.0       0.0   \n",
       "4          0.0  ...       0.0       0.0       0.0       0.0       0.0   \n",
       "...        ...  ...       ...       ...       ...       ...       ...   \n",
       "59995      0.0  ...       0.0       0.0       0.0       0.0       0.0   \n",
       "59996      0.0  ...       0.0       0.0       0.0       0.0       0.0   \n",
       "59997      0.0  ...       0.0       0.0       0.0       0.0       0.0   \n",
       "59998      0.0  ...       0.0       0.0       0.0       0.0       0.0   \n",
       "59999      0.0  ...       0.0       0.0       0.0       0.0       0.0   \n",
       "\n",
       "       pixel780  pixel781  pixel782  pixel783  pixel784  \n",
       "0           0.0       0.0       0.0       0.0       0.0  \n",
       "1           0.0       0.0       0.0       0.0       0.0  \n",
       "2           0.0       0.0       0.0       0.0       0.0  \n",
       "3           0.0       0.0       0.0       0.0       0.0  \n",
       "4           0.0       0.0       0.0       0.0       0.0  \n",
       "...         ...       ...       ...       ...       ...  \n",
       "59995       0.0       0.0       0.0       0.0       0.0  \n",
       "59996       0.0       0.0       0.0       0.0       0.0  \n",
       "59997       0.0       0.0       0.0       0.0       0.0  \n",
       "59998       0.0       0.0       0.0       0.0       0.0  \n",
       "59999       0.0       0.0       0.0       0.0       0.0  \n",
       "\n",
       "[60000 rows x 784 columns]"
      ]
     },
     "execution_count": 116,
     "metadata": {},
     "output_type": "execute_result"
    }
   ],
   "source": [
    "y_train_mod"
   ]
  },
  {
   "cell_type": "code",
   "execution_count": 133,
   "id": "1ff0955b",
   "metadata": {},
   "outputs": [
    {
     "data": {
      "text/plain": [
       "(1, 784)"
      ]
     },
     "execution_count": 133,
     "metadata": {},
     "output_type": "execute_result"
    }
   ],
   "source": [
    "X_test_mod.iloc[some_index].values.reshape(1, -1).shape"
   ]
  },
  {
   "cell_type": "code",
   "execution_count": 135,
   "id": "9c05da90",
   "metadata": {},
   "outputs": [
    {
     "data": {
      "image/png": "[encoded data removed]",
      "text/plain": [
       "<Figure size 432x288 with 3 Axes>"
      ]
     },
     "metadata": {
      "needs_background": "light"
     },
     "output_type": "display_data"
    }
   ],
   "source": [
    "knn_clf.fit(X_train_mod, y_train_mod)\n",
    "some_index = 0\n",
    "clean_digit = knn_clf.predict([X_test_mod.iloc[some_index]])\n",
    "plt.subplot(131); plot_digits(X_test_mod.iloc[some_index].values.reshape(1, -1))\n",
    "plt.subplot(132); plot_digits(y_test_mod.iloc[some_index].values.reshape(1,-1))\n",
    "plt.subplot(133); plot_digits(clean_digit)\n",
    "plt.show()"
   ]
  },
  {
   "cell_type": "markdown",
   "id": "cc4fd18f",
   "metadata": {},
   "source": [
    "타깃과 매우 비슷"
   ]
  }
 ],
 "metadata": {
  "kernelspec": {
   "display_name": "Python 3",
   "language": "python",
   "name": "python3"
  },
  "language_info": {
   "codemirror_mode": {
    "name": "ipython",
    "version": 3
   },
   "file_extension": ".py",
   "mimetype": "text/x-python",
   "name": "python",
   "nbconvert_exporter": "python",
   "pygments_lexer": "ipython3",
   "version": "3.8.8"
  }
 },
 "nbformat": 4,
 "nbformat_minor": 5
}
