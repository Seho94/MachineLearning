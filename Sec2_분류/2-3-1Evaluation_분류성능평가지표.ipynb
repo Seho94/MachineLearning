{
 "cells": [
  {
   "cell_type": "markdown",
   "id": "4663beae",
   "metadata": {},
   "source": [
    "# 분류 성능 평가 지표\n",
    "    - 정확도 (Accuracy)\n",
    "    - 오차행렬 (Confusion Matrix)\n",
    "    - 정밀도 (Precision)\n",
    "    - 재현율 (Recall)\n",
    "    - F1 스코어\n",
    "    - ROC AUC"
   ]
  },
  {
   "cell_type": "markdown",
   "id": "828bebb2",
   "metadata": {},
   "source": [
    "1. 정확도\n",
    "    - 예측 결과가 동일한 데이터 건수 / 전체 예측 데이터 건수\n",
    "    - 직관적으로 모델 예측 성능을 나타내는 평가지표\n",
    "    - 하지만, 이진 분류의 경우 데이터의 구성에 따라 ML모델의 성능을 왜곡할 수 있기 때문에\n",
    "      정확도 수치 하나만 가지고 성능을 평가하지 않는다. (Ex. 신용카드 부정거래 10%, 정상 90%)\n",
    "    - 즉, 불균형한 레이블 값 분포에서 ML모델의 성능을 판단할 경우, 적합한 평가지표가 아니다.\n",
    "    \n",
    "2. 오차 행렬\n",
    "    - 이진 분류의 예측 오류가 얼마인지와 더불어 어떠한 유형의 예측 오류가 발생하고 있는지를 함께 나타내는 지표\n",
    "    - ---------------------------예측 클래스\n",
    "    - 실제 클래스--Negative(0)--------Positive(1)\n",
    "    - Negative(0)-----TN------------------FP\n",
    "    - Positive(1)------FN------------------TP\n",
    "    \n",
    "3. 정밀도(Precision)\n",
    "    - 예측을 Positive로 한 대상 중에 예측과 실제 값이 Positive로 일치한 데이터의 비율을 뜻함\n",
    "    - TP / (FP + TP)\n",
    "    - 정밀도를 높이려면 FP가 낮아야 한다.\n",
    "    - FP: Positve로 예측했는데 실제로 Negative인 경우 >> FP를 낮다는 건 Positive에 대한 예측이 높다는 것\n",
    "    \n",
    "4. 재현율(Recall)\n",
    "    - 실제 값이 Positive인 대상 중에 예측과 실제 값이 Positive로 일치한 데이터의 비율을 뜻함\n",
    "    - TP / (FN + TP)\n",
    "    - 재현율을 높이려면 FN이 낮아져야 한다.\n",
    "    - FN: Negative로 예측했는데 실제로 Positive인 경우 >> FN를 낮다는 건 실제 값 Positive인 것이 틀리면 안된다는 것"
   ]
  },
  {
   "cell_type": "markdown",
   "id": "2778855e",
   "metadata": {},
   "source": [
    "## Accuracy: 정확도 Example"
   ]
  },
  {
   "cell_type": "code",
   "execution_count": 32,
   "id": "803e4276",
   "metadata": {},
   "outputs": [],
   "source": [
    "from IPython.display import Image\n",
    "\n",
    "import numpy as np\n",
    "from sklearn.base import BaseEstimator\n",
    "import os \n",
    "import pandas as pd"
   ]
  },
  {
   "cell_type": "code",
   "execution_count": 2,
   "id": "d8fa4beb",
   "metadata": {},
   "outputs": [],
   "source": [
    "class MyDummyClassifier(BaseEstimator):\n",
    "    # fit() 메서드는 아무것도 학습하지 않음.\n",
    "    def fit(self, X, y=None):\n",
    "        pass\n",
    "    \n",
    "    # predict() 메서드는 단순히 Sex feature가 1이면 0, 그렇지 않으면 1로 예측함.\n",
    "    def predict(self, X):\n",
    "        pred = np.zeros((X.shape[0], 1))\n",
    "        for i in range(X.shape[0]):\n",
    "            if X['Sex'].iloc[i] == 1:\n",
    "                pred[i] = 0\n",
    "            else:\n",
    "                pred[i] = 1\n",
    "                \n",
    "        return pred"
   ]
  },
  {
   "cell_type": "code",
   "execution_count": 3,
   "id": "8307526d",
   "metadata": {},
   "outputs": [],
   "source": [
    "from sklearn.preprocessing import LabelEncoder\n",
    "\n",
    "# Null 처리 함수\n",
    "def fillna(df):\n",
    "    df['Age'].fillna(df['Age'].mean(), inplace=True)\n",
    "    df['Cabin'].fillna('N', inplace=True)\n",
    "    df['Embarked'].fillna('N', inplace=True)\n",
    "    df['Fare'].fillna(0, inplace=True)\n",
    "    return df\n",
    "\n",
    "# 머신러닝 알고리즘에 불필요한 속성 제거\n",
    "def drop_features(df):\n",
    "    df.drop(['PassengerId', 'Name', 'Ticket'], axis=1, inplace=True)\n",
    "    return df\n",
    "\n",
    "# 레이블 인코딩 수행\n",
    "def format_features(df):\n",
    "    df['Cabin'] = df['Cabin'].str[:1]\n",
    "    features = ['Cabin', 'Sex', 'Embarked']\n",
    "    for feature in features:\n",
    "        le = LabelEncoder()\n",
    "        le = le.fit(df[feature])\n",
    "        df[feature] = le.transform(df[feature])\n",
    "    return df\n",
    "\n",
    "# 앞에서 설정한 Data Preprocessing 함수 호출\n",
    "def transform_features(df):\n",
    "    df = fillna(df)\n",
    "    df = drop_features(df)\n",
    "    df = format_features(df)\n",
    "    return df"
   ]
  },
  {
   "cell_type": "code",
   "execution_count": 4,
   "id": "3a02afc1",
   "metadata": {},
   "outputs": [
    {
     "name": "stdout",
     "output_type": "stream",
     "text": [
      "Dummy Classifier의 정확도는: 0.7877\n"
     ]
    }
   ],
   "source": [
    "from sklearn.model_selection import train_test_split\n",
    "from sklearn.metrics import accuracy_score\n",
    "\n",
    "df = pd.read_csv(\"train.csv\")\n",
    "y_df = df['Survived']\n",
    "x_df = df.drop('Survived', axis=1)\n",
    "x_df = transform_features(x_df)\n",
    "X_train, X_test, y_train, y_test = train_test_split(x_df, y_df, test_size=0.2, random_state=0)\n",
    "\n",
    "# 위에서 생성한 Dummy Classifier를 이용하여 학습/예측/평가 수행.\n",
    "myclf = MyDummyClassifier()\n",
    "myclf.fit(X_train, y_train)\n",
    "\n",
    "mypredictions = myclf.predict(X_test)\n",
    "print(\"Dummy Classifier의 정확도는: {0:.4f}\".format(accuracy_score(y_test, mypredictions)))"
   ]
  },
  {
   "cell_type": "code",
   "execution_count": 5,
   "id": "9cec5193",
   "metadata": {},
   "outputs": [
    {
     "name": "stdout",
     "output_type": "stream",
     "text": [
      "[[ 0.  0.  5. ...  0.  0.  0.]\n",
      " [ 0.  0.  0. ... 10.  0.  0.]\n",
      " [ 0.  0.  0. ... 16.  9.  0.]\n",
      " ...\n",
      " [ 0.  0.  1. ...  6.  0.  0.]\n",
      " [ 0.  0.  2. ... 12.  0.  0.]\n",
      " [ 0.  0. 10. ... 12.  1.  0.]]\n",
      "### digits.data.shape:  (1797, 64)\n",
      "[0 1 2 ... 8 9 8]\n",
      "### digits.target.shape:  (1797,)\n"
     ]
    }
   ],
   "source": [
    "from sklearn.datasets import load_digits\n",
    "from sklearn.model_selection import train_test_split\n",
    "from sklearn.base import BaseEstimator\n",
    "from sklearn.metrics import accuracy_score\n",
    "import numpy as np\n",
    "import pandas as pd\n",
    "\n",
    "class MyFakeClassifier(BaseEstimator):\n",
    "    # fit() 메서드는 아무것도 학습하지 않음.\n",
    "    def fit(self, X, y=None):\n",
    "        pass\n",
    "    \n",
    "    # predict() 메서드는 단순히 Sex feature가 1이면 0, 그렇지 않으면 1로 예측함.\n",
    "    def predict(self, X):\n",
    "        return np.zeros((len(X),1), dtype=bool)\n",
    "    \n",
    "# 사이킷런의 내장 데이터 셋인 load_digits()를 이용하여 MNIST 데이터 로딩\n",
    "digits = load_digits()\n",
    "\n",
    "print(digits.data)\n",
    "print(\"### digits.data.shape: \", digits.data.shape)\n",
    "print(digits.target)\n",
    "print(\"### digits.target.shape: \", digits.target.shape)"
   ]
  },
  {
   "cell_type": "code",
   "execution_count": 6,
   "id": "084fca29",
   "metadata": {},
   "outputs": [],
   "source": [
    "# digits번호가 7번이면 True이고 이를 astype(int)로 1로 변환, 7번이 아니면 False로 0으로 변환.\n",
    "y = (digits.target == 7).astype(int)\n",
    "X_train, X_test, y_train, y_test = train_test_split(digits.data, y, random_state=11)"
   ]
  },
  {
   "cell_type": "code",
   "execution_count": 7,
   "id": "f2256ce4",
   "metadata": {},
   "outputs": [
    {
     "name": "stdout",
     "output_type": "stream",
     "text": [
      "레이블 테스트 셋 크기:  (450,)\n",
      "테스트 셋 레이블 0과 1의 분포도\n",
      "0    405\n",
      "1     45\n",
      "dtype: int64\n",
      "모든 예측을 0으로 하여도 정확도는:0.900\n"
     ]
    }
   ],
   "source": [
    "# 불균형한 레이블 데이터 분포도 확인\n",
    "print(\"레이블 테스트 셋 크기: \", y_test.shape)\n",
    "print(\"테스트 셋 레이블 0과 1의 분포도\")\n",
    "print(pd.Series(y_test).value_counts())\n",
    "\n",
    "# Dummy Classifier로 학습/예측/정확도 평가\n",
    "fakeclf = MyFakeClassifier()\n",
    "fakeclf.fit(X_train, y_train)\n",
    "fakepred = fakeclf.predict(X_test)\n",
    "print(\"모든 예측을 0으로 하여도 정확도는:{0:.3f}\".format(accuracy_score(y_test, fakepred)))"
   ]
  },
  {
   "cell_type": "markdown",
   "id": "5009b883",
   "metadata": {},
   "source": [
    "## Confusion Matrix"
   ]
  },
  {
   "cell_type": "code",
   "execution_count": 8,
   "id": "efabf97a",
   "metadata": {},
   "outputs": [
    {
     "data": {
      "text/plain": [
       "array([[405,   0],\n",
       "       [ 45,   0]], dtype=int64)"
      ]
     },
     "execution_count": 8,
     "metadata": {},
     "output_type": "execute_result"
    }
   ],
   "source": [
    "from sklearn.metrics import confusion_matrix\n",
    "\n",
    "# 앞절의 예측 결과인 fakepred와 실제 결과 y_test의 Confusion Matrix 출력\n",
    "confusion_matrix(y_test, fakepred)"
   ]
  },
  {
   "cell_type": "markdown",
   "id": "a884ae15",
   "metadata": {},
   "source": [
    "## 정밀도(Precision) & 재현율 (Recall)"
   ]
  },
  {
   "cell_type": "markdown",
   "id": "7e02fe46",
   "metadata": {},
   "source": [
    "### MyFakeClassifier의 예측 결과로 정밀도와 재현율 측정"
   ]
  },
  {
   "cell_type": "code",
   "execution_count": 9,
   "id": "5711ee14",
   "metadata": {},
   "outputs": [
    {
     "name": "stdout",
     "output_type": "stream",
     "text": [
      "정밀도:  0.0\n",
      "재현율:  0.0\n"
     ]
    },
    {
     "name": "stderr",
     "output_type": "stream",
     "text": [
      "C:\\Users\\user\\anaconda3\\lib\\site-packages\\sklearn\\metrics\\_classification.py:1245: UndefinedMetricWarning: Precision is ill-defined and being set to 0.0 due to no predicted samples. Use `zero_division` parameter to control this behavior.\n",
      "  _warn_prf(average, modifier, msg_start, len(result))\n"
     ]
    }
   ],
   "source": [
    "from sklearn.metrics import accuracy_score, precision_score, recall_score\n",
    "\n",
    "print(\"정밀도: \", precision_score(y_test, fakepred))\n",
    "print(\"재현율: \", recall_score(y_test, fakepred))"
   ]
  },
  {
   "cell_type": "markdown",
   "id": "95979f7f",
   "metadata": {},
   "source": [
    "#### 오차행렬, 정확도, 정밀도, 재현율을 한꺼번에 계산하는 함수 생성"
   ]
  },
  {
   "cell_type": "code",
   "execution_count": 10,
   "id": "543c5644",
   "metadata": {},
   "outputs": [],
   "source": [
    "from sklearn.metrics import accuracy_score, precision_score, recall_score, confusion_matrix\n",
    "\n",
    "def get_clf_eval(y_test, pred):\n",
    "    confusion = confusion_matrix(y_test, pred)\n",
    "    accuracy = accuracy_score(y_test, pred)\n",
    "    precision = precision_score(y_test, pred)\n",
    "    recall = recall_score(y_test, pred)\n",
    "    print(\"오차 행렬\")\n",
    "    print(confusion)\n",
    "    print(\"정확도: {0:.4f}, 정밀도: {1:.4f}, 재현율: {2:.4f}\".format(accuracy, precision, recall))"
   ]
  },
  {
   "cell_type": "code",
   "execution_count": 11,
   "id": "08bbd8b6",
   "metadata": {},
   "outputs": [
    {
     "name": "stdout",
     "output_type": "stream",
     "text": [
      "오차 행렬\n",
      "[[104  14]\n",
      " [ 13  48]]\n",
      "정확도: 0.8492, 정밀도: 0.7742, 재현율: 0.7869\n"
     ]
    },
    {
     "name": "stderr",
     "output_type": "stream",
     "text": [
      "C:\\Users\\user\\anaconda3\\lib\\site-packages\\sklearn\\linear_model\\_logistic.py:763: ConvergenceWarning: lbfgs failed to converge (status=1):\n",
      "STOP: TOTAL NO. of ITERATIONS REACHED LIMIT.\n",
      "\n",
      "Increase the number of iterations (max_iter) or scale the data as shown in:\n",
      "    https://scikit-learn.org/stable/modules/preprocessing.html\n",
      "Please also refer to the documentation for alternative solver options:\n",
      "    https://scikit-learn.org/stable/modules/linear_model.html#logistic-regression\n",
      "  n_iter_i = _check_optimize_result(\n"
     ]
    }
   ],
   "source": [
    "import numpy as np\n",
    "import pandas as pd\n",
    "from sklearn.model_selection import train_test_split\n",
    "from sklearn.linear_model import LogisticRegression\n",
    "\n",
    "# 원본 데이터 재로딩, 데이터 가공, train/test 분할\n",
    "df = pd.read_csv(\"train.csv\")\n",
    "y_df = df['Survived']\n",
    "x_df = df.drop('Survived', axis=1)\n",
    "x_df = transform_features(x_df)\n",
    "\n",
    "X_train, X_test, y_train, y_test = train_test_split(x_df, y_df, test_size=0.2, random_state=11)\n",
    "\n",
    "lr_clf = LogisticRegression()\n",
    "\n",
    "lr_clf.fit(X_train, y_train)\n",
    "pred = lr_clf.predict(X_test)\n",
    "get_clf_eval(y_test, pred)"
   ]
  },
  {
   "cell_type": "markdown",
   "id": "01962392",
   "metadata": {},
   "source": [
    "#### 재현율이 상대적으로 더 중요한 지표인 경우\n",
    "- 실제 positive 양성인 데이터 예측을 Negative로 잘못 판단하게 되면 업무상 큰 영향이 발생하는 경우\n",
    "- 암 진단, 금융사기 판별과 같은 case\n",
    "\n",
    "#### 정밀도가 상대적으로 더 중요한 지표인 경우\n",
    "- 실제 Negative음성인 데이터 예측을 Positive양성으로 잘못 판단하게 되면 업무상 큰 영향이 발생하는 경우\n",
    "- 스팸메일\n",
    "\n",
    "#### * 불균형한 레이블 클래스를 가지는 이진분류모델에서는 많은 데이터 중에서 중점적으로 찾아야 하는 매우 적은 수의 결괏값에 Positve를 설정해 1값을 부여하고, 그렇지 않은 경우는 Negative로 0값을 부여합니다."
   ]
  },
  {
   "cell_type": "markdown",
   "id": "c93861fd",
   "metadata": {},
   "source": [
    "#### 재현율이 좀 더 좋아야하는데? 정밀도가 더 좋아야 하는데? 의 관점 >> 임곗값 Threshold\n",
    "- 정밀도와 재현율은 상호보완적인 평가 지표이기 때문에 어느 한쪽을 강제로 높이면 다른 하나의 수치는 떨어지기 쉽다.\n",
    "- 이를 정밀도와 재현율의 Trade off 관계"
   ]
  },
  {
   "cell_type": "markdown",
   "id": "d1abca65",
   "metadata": {},
   "source": [
    "분류 결정 임곗값이 낮아질 수록 Positive로 예측할 확률이 높아진다. >> 재현율 증가\n",
    "- 예측할 확률이 왜 높아지냐? 임곗값이 낮아질수록 Positive일 확률이 높아지고 그에따라\n",
    "  FP값은 커져 정밀도는 작아지며, FN값은 작아져 재현율 값은 커진다는 말이다.\n",
    "- 사이킷런 Estimator객체의 predict_proba() 메서드는 분류 결정 예측 확률을 반환\n",
    "- 이를 이요하면 임의로 분류 결정 임곗값을 조정하면서 예측 확률을 변경할 수 있다."
   ]
  },
  {
   "cell_type": "markdown",
   "id": "c82efbd9",
   "metadata": {},
   "source": [
    "#### precision_recall_curve()\n",
    "정밀도-재현율 곡선을 통해 임곗값에 따른 정밀도, 재현율의 변화값 제공"
   ]
  },
  {
   "cell_type": "markdown",
   "id": "3d1d7781",
   "metadata": {},
   "source": [
    "## Precision/Recall Trade-off"
   ]
  },
  {
   "cell_type": "markdown",
   "id": "0e59ce94",
   "metadata": {},
   "source": [
    "#### predict_proba 메서드 확인\n",
    "   - 0과 1로 예측한 확률값"
   ]
  },
  {
   "cell_type": "code",
   "execution_count": 12,
   "id": "262aa9f1",
   "metadata": {},
   "outputs": [
    {
     "name": "stdout",
     "output_type": "stream",
     "text": [
      "pred_proba()결과 Shape: (179, 2)\n",
      "pred_proba array에서 앞 3개만 샘플로 추출 \n",
      ": [[0.46214778 0.53785222]\n",
      " [0.87866165 0.12133835]\n",
      " [0.87720083 0.12279917]]\n",
      "두 개의 class 중에서 더 큰 확률을 클래스 값으로 예측 \n",
      " [[0.46214778 0.53785222 1.        ]\n",
      " [0.87866165 0.12133835 0.        ]\n",
      " [0.87720083 0.12279917 0.        ]]\n"
     ]
    }
   ],
   "source": [
    "pred_proba = lr_clf.predict_proba(X_test)\n",
    "pred = lr_clf.predict(X_test)\n",
    "print(\"pred_proba()결과 Shape: {0}\".format(pred_proba.shape))\n",
    "print(\"pred_proba array에서 앞 3개만 샘플로 추출 \\n:\", pred_proba[:3])\n",
    "\n",
    "# 예측 확률 array와 예측 결과값 array를 concatenate하여 예측 확률과 결과값을 한눈에 확인\n",
    "pred_proba_result = np.concatenate([pred_proba, pred.reshape(-1,1)], axis=1)\n",
    "print(\"두 개의 class 중에서 더 큰 확률을 클래스 값으로 예측 \\n\", pred_proba_result[:3])"
   ]
  },
  {
   "cell_type": "markdown",
   "id": "8bcbb9f0",
   "metadata": {},
   "source": [
    "#### Binarizer 활용"
   ]
  },
  {
   "cell_type": "code",
   "execution_count": 13,
   "id": "be91bdca",
   "metadata": {},
   "outputs": [
    {
     "name": "stdout",
     "output_type": "stream",
     "text": [
      "[[0. 0. 1.]\n",
      " [1. 0. 0.]\n",
      " [0. 0. 1.]]\n"
     ]
    }
   ],
   "source": [
    "from sklearn.preprocessing import Binarizer\n",
    "\n",
    "X = [[1, -1, 2],\n",
    "    [2, 0, 0],\n",
    "    [0, 1.1, 1.2]]\n",
    "\n",
    "# threshold 기준값보다 같거나 작으면 0을, 크면 1을 반환\n",
    "binarizer = Binarizer(threshold=1.1) # threshold 기준값보다 같거나 작으면 0을 반환\n",
    "print(binarizer.fit_transform(X))"
   ]
  },
  {
   "cell_type": "markdown",
   "id": "bb19559b",
   "metadata": {},
   "source": [
    "#### 분류 결정 임계값 0.5 기반에서 Binarizer를 이용하여 예측값 변환"
   ]
  },
  {
   "cell_type": "code",
   "execution_count": 14,
   "id": "7089c605",
   "metadata": {},
   "outputs": [
    {
     "name": "stdout",
     "output_type": "stream",
     "text": [
      "오차 행렬\n",
      "[[104  14]\n",
      " [ 13  48]]\n",
      "정확도: 0.8492, 정밀도: 0.7742, 재현율: 0.7869\n"
     ]
    }
   ],
   "source": [
    "from sklearn.preprocessing import Binarizer\n",
    "\n",
    "# Binarizer의 threshold 설정값. 분류 결정 임곗값.\n",
    "custom_threshold = 0.5\n",
    "\n",
    "# predict_proba()의 반환값의 두번째 컬럼, 즉 Positive 클래스 컬럼 하나만 추출하여 Binarizer 적용\n",
    "pred_proba_1 = pred_proba[:,1].reshape(-1,1)\n",
    "\n",
    "binarizer = Binarizer(threshold=custom_threshold).fit(pred_proba_1)\n",
    "custom_predict = binarizer.transform(pred_proba_1)\n",
    "\n",
    "get_clf_eval(y_test, custom_predict)"
   ]
  },
  {
   "cell_type": "markdown",
   "id": "965386f7",
   "metadata": {},
   "source": [
    "#### 분류 결정 임계값 0.4 기반에서 Binarizer를 이용하여 예측값 변환"
   ]
  },
  {
   "cell_type": "code",
   "execution_count": 15,
   "id": "1c4d055f",
   "metadata": {},
   "outputs": [
    {
     "name": "stdout",
     "output_type": "stream",
     "text": [
      "오차 행렬\n",
      "[[98 20]\n",
      " [10 51]]\n",
      "정확도: 0.8324, 정밀도: 0.7183, 재현율: 0.8361\n"
     ]
    }
   ],
   "source": [
    "from sklearn.preprocessing import Binarizer\n",
    "\n",
    "# Binarizer의 threshold 설정값. 분류 결정 임곗값.\n",
    "custom_threshold = 0.4\n",
    "\n",
    "# predict_proba()의 반환값의 두번째 컬럼, 즉 Positive 클래스 컬럼 하나만 추출하여 Binarizer 적용\n",
    "pred_proba_1 = pred_proba[:,1].reshape(-1,1)\n",
    "\n",
    "binarizer = Binarizer(threshold=custom_threshold).fit(pred_proba_1)\n",
    "custom_predict = binarizer.transform(pred_proba_1)\n",
    "\n",
    "get_clf_eval(y_test, custom_predict)"
   ]
  },
  {
   "cell_type": "markdown",
   "id": "28874120",
   "metadata": {},
   "source": [
    "재현율이 높아졌고, 정밀도는 낮아졌다."
   ]
  },
  {
   "cell_type": "markdown",
   "id": "7f5f95f0",
   "metadata": {},
   "source": [
    "#### 여러 개의 분류 결정 임곗값을 변경하면서 Binarizer를 이용하여 예측값 변환"
   ]
  },
  {
   "cell_type": "code",
   "execution_count": 16,
   "id": "01325fab",
   "metadata": {},
   "outputs": [
    {
     "name": "stdout",
     "output_type": "stream",
     "text": [
      "임곗값: 0.4\n",
      "오차 행렬\n",
      "[[98 20]\n",
      " [10 51]]\n",
      "정확도: 0.8324, 정밀도: 0.7183, 재현율: 0.8361\n",
      "임곗값: 0.45\n",
      "오차 행렬\n",
      "[[103  15]\n",
      " [ 12  49]]\n",
      "정확도: 0.8492, 정밀도: 0.7656, 재현율: 0.8033\n",
      "임곗값: 0.5\n",
      "오차 행렬\n",
      "[[104  14]\n",
      " [ 13  48]]\n",
      "정확도: 0.8492, 정밀도: 0.7742, 재현율: 0.7869\n",
      "임곗값: 0.55\n",
      "오차 행렬\n",
      "[[109   9]\n",
      " [ 15  46]]\n",
      "정확도: 0.8659, 정밀도: 0.8364, 재현율: 0.7541\n",
      "임곗값: 0.6\n",
      "오차 행렬\n",
      "[[112   6]\n",
      " [ 16  45]]\n",
      "정확도: 0.8771, 정밀도: 0.8824, 재현율: 0.7377\n"
     ]
    }
   ],
   "source": [
    "# 테스트를 수행할 모든 임곗값을 리스트 객체로 저장.\n",
    "thresholds = [0.4, 0.45, 0.50, 0.55, 0.60]\n",
    "\n",
    "def get_eval_by_threshold(y_test, pred_proba_c1, thresholds):\n",
    "    # thresholds list 객체내의 값을 차례로 iteration하면서 Evalutaion 수행.\n",
    "    for custom_threshold in thresholds:\n",
    "        binarizer = Binarizer(threshold=custom_threshold).fit(pred_proba_c1)\n",
    "        custom_predict = binarizer.transform(pred_proba_c1)\n",
    "        print('임곗값:', custom_threshold)\n",
    "        get_clf_eval(y_test, custom_predict)\n",
    "        \n",
    "get_eval_by_threshold(y_test, pred_proba[:,1].reshape(-1,1), thresholds)"
   ]
  },
  {
   "cell_type": "markdown",
   "id": "49d3641d",
   "metadata": {},
   "source": [
    "임곗값이 커질수록 재현율은 떨어지고 정밀도는 올라간다.  "
   ]
  },
  {
   "cell_type": "markdown",
   "id": "88c6ac19",
   "metadata": {},
   "source": [
    "#### precision_recall_curve()를 이용하여 임곗값에 따른 정밀도-재현율 값 추출"
   ]
  },
  {
   "cell_type": "code",
   "execution_count": 17,
   "id": "d336b6a6",
   "metadata": {},
   "outputs": [
    {
     "name": "stdout",
     "output_type": "stream",
     "text": [
      "반환된 분류 결정 임계값 배열의 Shape:  (143,)\n",
      "반환된 precisions 배열의 Shape:  (144,)\n",
      "반환된 recalls 배열의 Shape:  (144,)\n",
      "thresholds 5 sample:  [0.10391787 0.10392009 0.10394503 0.10776498 0.10889543]\n",
      "precisions 5 sample:  [0.38853503 0.38461538 0.38709677 0.38961039 0.38562092]\n",
      "recalls 5 sample:  [1.         0.98360656 0.98360656 0.98360656 0.96721311]\n",
      "샘플 추출을 위한 임곗값 배열의 index 10개 [  0  15  30  45  60  75  90 105 120 135]\n",
      "샘플용 10개의 임곗값:  [0.1  0.12 0.14 0.19 0.28 0.4  0.56 0.67 0.82 0.95]\n",
      "샘플 임계값별 정밀도:  [0.389 0.44  0.466 0.539 0.647 0.729 0.836 0.949 0.958 1.   ]\n",
      "샘플 임계값별 재현율:  [1.    0.967 0.902 0.902 0.902 0.836 0.754 0.607 0.377 0.148]\n"
     ]
    }
   ],
   "source": [
    "from sklearn.metrics import precision_recall_curve\n",
    "\n",
    "# 레이블 값이 1일 때의 예측 확률을 추출\n",
    "pred_proba_class1 = lr_clf.predict_proba(X_test)[:,1]\n",
    "\n",
    "# 실제값 데이터 셋과 레이블 값이 1일 때의 예측 확률을 precision_recall_curve 인자로 입력\n",
    "precisions, recalls, thresholds = precision_recall_curve(y_test, pred_proba_class1)\n",
    "print(\"반환된 분류 결정 임계값 배열의 Shape: \", thresholds.shape)\n",
    "print(\"반환된 precisions 배열의 Shape: \", precisions.shape)\n",
    "print(\"반환된 recalls 배열의 Shape: \", recalls.shape)\n",
    "\n",
    "print(\"thresholds 5 sample: \", thresholds[:5])\n",
    "print(\"precisions 5 sample: \", precisions[:5])\n",
    "print(\"recalls 5 sample: \", recalls[:5])\n",
    "\n",
    "# 반환된 임계값 배열 로우가 147건이므로 샘플로 10건만 추출하되, 임곗값을 15 Step으로 추출\n",
    "thr_index = np.arange(0, thresholds.shape[0], 15)\n",
    "print(\"샘플 추출을 위한 임곗값 배열의 index 10개\", thr_index)\n",
    "print(\"샘플용 10개의 임곗값: \", np.round(thresholds[thr_index], 2))\n",
    "\n",
    "# 15 Step 단위로 추출된 임계값에 따른 정밀도와 재현율 값\n",
    "print(\"샘플 임계값별 정밀도: \", np.round(precisions[thr_index], 3))\n",
    "print(\"샘플 임계값별 재현율: \", np.round(recalls[thr_index], 3))"
   ]
  },
  {
   "cell_type": "markdown",
   "id": "06bfc957",
   "metadata": {},
   "source": [
    "#### 임곗값의 변경에 따른 정밀도-재현율 변화 곡선을 그림"
   ]
  },
  {
   "cell_type": "code",
   "execution_count": 18,
   "id": "1ee103c5",
   "metadata": {},
   "outputs": [
    {
     "data": {
      "image/png": "[encoded data removed]",
      "text/plain": [
       "<Figure size 576x432 with 1 Axes>"
      ]
     },
     "metadata": {
      "needs_background": "light"
     },
     "output_type": "display_data"
    }
   ],
   "source": [
    "import matplotlib.pyplot as plt\n",
    "import matplotlib.ticker as ticker\n",
    "%matplotlib inline\n",
    "\n",
    "def precision_recall_curve_plot(y_test, pred_proba_c1):\n",
    "    # threhold ndarray와 이 threshold에 따른 정밀도, 재현율 ndarray 추출.\n",
    "    precisions, recalls, thresholds = precision_recall_curve(y_test, pred_proba_c1)\n",
    "    \n",
    "    # X축을 threshold값으로, Y축은 정밀도, 재현율 값으로 각각 plot 수행, 정밀도는 점선으로 표시\n",
    "    plt.figure(figsize=(8,6))\n",
    "    threshold_boundary = thresholds.shape[0]\n",
    "    plt.plot(thresholds, precisions[0:threshold_boundary], linestyle='--', label=\"precision\")\n",
    "    plt.plot(thresholds, recalls[0:threshold_boundary], label='recall')\n",
    "    \n",
    "    # threhold 값 X 축의 Scale을 0.1 단위로 변경\n",
    "    start, end = plt.xlim()\n",
    "    plt.xticks(np.round(np.arange(start, end, 0.1), 2))\n",
    "    \n",
    "    # x축, y축 label과 legend, 그리고 grid 설정\n",
    "    plt.xlabel(\"Threshold value\")\n",
    "    plt.ylabel(\"Precision and Recall value\")\n",
    "    plt.legend()\n",
    "    plt.grid()\n",
    "    plt.show()\n",
    "    \n",
    "precision_recall_curve_plot(y_test,lr_clf.predict_proba(X_test)[:,1])"
   ]
  },
  {
   "cell_type": "markdown",
   "id": "6dc90f9d",
   "metadata": {},
   "source": [
    "#### 정밀도를 100%로 만드는 법\n",
    "   - 확실한 기준이 되는 경우 Positive로 예측하고, 나머지는 모두 Negative로 예측\n",
    "   - 정밀도 = TP / (TP+FP)입니다.\n",
    "   - 전체 환자 1000명 중 확실한 Positive 징후만 가진 환자는 단 1명이라고 하면, 이 한 명만 Positive로 예측하고 나머지는 모두 Negative로 예측하더라도, FP는 0, TP는 1이 되므로 정밀도는 1/1 즉, 100%가 됩니다.\n",
    "   \n",
    "#### 재현율을 100%로 만드는 법\n",
    "   - 모든 환자를 Positive로 예측하면 된다.\n",
    "   - 재현율 = TP / (TP + FN)\n",
    "   - 전체 환자 1000명을 다 Positive로 예측하는 겁니다.\n",
    "   - 실제 양성인 사람이 30명 정도라도 TN이 수치에 포함되지 않고, FN은 아예 0이므로 30/30으로 100%가 됩니다."
   ]
  },
  {
   "cell_type": "markdown",
   "id": "a2007176",
   "metadata": {},
   "source": [
    "### F1 Score\n",
    "![F1score](https://user-images.githubusercontent.com/63237947/104834091-9c1d0c00-58e0-11eb-99ea-c6bb341cb820.png)\n",
    "   - F1 Score는 정밀도와 재현율을 결합한 지표\n",
    "   - 정밀도와 재현율이 어느 한쪽으로 치우치지 않는 수치를 나타낼 때 상대적으로 높은 값을 가집니다.\n",
    "   - 만일 A예측모델의 경우 정밀도 0.9, 재현율이 0.1로 극단적인 차이가 나고, B 예측모델의 경우, 정밀도가 0.5, 재현율 0.5로 정밀도와 재현율의 큰 차이가 없다면 각각의 F1 스코어는 0.18, 0.5로 B모델이 우수한 F1 Score를 가집니다."
   ]
  },
  {
   "cell_type": "markdown",
   "id": "96f2ab30",
   "metadata": {},
   "source": [
    "### ROC곡선과 AUC\n",
    "<img src=\"https://raw.githubusercontent.com/angeloyeo/angeloyeo.github.io/master/pics/2020-08-05-ROC/pic1.png\" alt=\"Drawing\" style=\"width: 400px;\"/>\n",
    "  \n",
    "   - ROC곡선과 이에 기반한 AUC 스코어는 이진 분류의 예측 성능 측정에서 중요하게 사용되는 지표\n",
    "   - 머신러닝의 이진 분류 모델의 예측 성능을 판단하는 중요한 평가 지표\n",
    "   - ROC 곡선은 FPR이 변할 때 TPR이 어떻게 변하는지를 나타내는 곡선\n",
    "   - FPR을 X축으로, TPR을 Y축으로 잡으면 FPR의 변화에 따른 TPR의 변화 곡선형태로 나타난다.\n",
    "   - 분류의 성능 지표로 사용되는 것은 ROC 곡선 면적에 기반한 AUC 값으로 결정\n",
    "   - AUC값은 ROC 곡선 밑의 면적을 구한 것으로서 일반적으로 1에 가까울수록 좋은 수치이다.\n",
    "   - TPR은 True Positve Rate의 약자이며, 재현율을 나타낸다. 민감도라고도 부른다.\n",
    "   - 따라서 TPR은 TP / (FN+TP)이다.\n",
    "   - FPR은 실제 Negative(음성)을 잘못 예측한 비율을 나타낸다.\n",
    "   - FPR = FP / (FP + TN) Negative로 예측한 전체 중에 Negative인데 Positive로 예측한 비율"
   ]
  },
  {
   "cell_type": "markdown",
   "id": "f630c67b",
   "metadata": {},
   "source": [
    "### F1 score"
   ]
  },
  {
   "cell_type": "code",
   "execution_count": 19,
   "id": "840549da",
   "metadata": {},
   "outputs": [
    {
     "name": "stdout",
     "output_type": "stream",
     "text": [
      "F1 스코어ㅣ 0.780488\n"
     ]
    }
   ],
   "source": [
    "from sklearn.metrics import f1_score\n",
    "\n",
    "f1 = f1_score(y_test, pred)\n",
    "print(\"F1 스코어ㅣ {0:4f}\".format(f1))"
   ]
  },
  {
   "cell_type": "code",
   "execution_count": 24,
   "id": "2549ca2c",
   "metadata": {},
   "outputs": [],
   "source": [
    "def get_clf_eval(y_test, pred):\n",
    "    confusion = confusion_matrix(y_test, pred)\n",
    "    accuracy = accuracy_score(y_test, pred)\n",
    "    precision = precision_score(y_test, pred)\n",
    "    recall = recall_score(y_test, pred)\n",
    "    # F1 스코어 추가\n",
    "    f1 = f1_score(y_test, pred)\n",
    "    print(\"오차 행렬\")\n",
    "    print(confusion)\n",
    "    print(\"정확도: {0:.4f}, 정밀도: {1:.4f}, 재현율: {2:.4f}, F1:{3:.4f}\".format(accuracy, precision, recall, f1))"
   ]
  },
  {
   "cell_type": "code",
   "execution_count": 26,
   "id": "6ac3cb34",
   "metadata": {},
   "outputs": [
    {
     "name": "stdout",
     "output_type": "stream",
     "text": [
      "임곗값: 0.4\n",
      "오차 행렬\n",
      "[[98 20]\n",
      " [10 51]]\n",
      "정확도: 0.8324, 정밀도: 0.7183, 재현율: 0.8361, F1:0.7727\n",
      "임곗값: 0.45\n",
      "오차 행렬\n",
      "[[103  15]\n",
      " [ 12  49]]\n",
      "정확도: 0.8492, 정밀도: 0.7656, 재현율: 0.8033, F1:0.7840\n",
      "임곗값: 0.5\n",
      "오차 행렬\n",
      "[[104  14]\n",
      " [ 13  48]]\n",
      "정확도: 0.8492, 정밀도: 0.7742, 재현율: 0.7869, F1:0.7805\n",
      "임곗값: 0.55\n",
      "오차 행렬\n",
      "[[109   9]\n",
      " [ 15  46]]\n",
      "정확도: 0.8659, 정밀도: 0.8364, 재현율: 0.7541, F1:0.7931\n",
      "임곗값: 0.6\n",
      "오차 행렬\n",
      "[[112   6]\n",
      " [ 16  45]]\n",
      "정확도: 0.8771, 정밀도: 0.8824, 재현율: 0.7377, F1:0.8036\n"
     ]
    }
   ],
   "source": [
    "# 테스트를 수행할 모든 임곗값을 리스트 객체로 저장.\n",
    "thresholds = [0.4, 0.45, 0.50, 0.55, 0.60]\n",
    "pred_proba = lr_clf.predict_proba(X_test)\n",
    "get_eval_by_threshold(y_test, pred_proba[:,1].reshape(-1,1), thresholds)"
   ]
  },
  {
   "cell_type": "markdown",
   "id": "52d28c8a",
   "metadata": {},
   "source": [
    "참고) F1 스코어를 보고 판단하기엔 재현율이 너무 낮음."
   ]
  },
  {
   "cell_type": "markdown",
   "id": "ab2b5881",
   "metadata": {},
   "source": [
    "### ROC Curve와 AUC"
   ]
  },
  {
   "cell_type": "code",
   "execution_count": 28,
   "id": "828ca72d",
   "metadata": {},
   "outputs": [
    {
     "name": "stdout",
     "output_type": "stream",
     "text": [
      "샘플 추출을 위한 임곗값 배열의 index 10개:  [ 0  5 10 15 20 25 30 35 40 45 50]\n",
      "샘플용 10개의 임곗값:  [1.97 0.75 0.63 0.59 0.49 0.4  0.35 0.23 0.13 0.12 0.11]\n",
      "샘플 임곗값 별 FPR:  [0.    0.017 0.034 0.051 0.127 0.161 0.203 0.331 0.585 0.636 0.797]\n",
      "샘플 임곗값 별 TPR:  [0.    0.475 0.689 0.754 0.787 0.836 0.869 0.902 0.918 0.967 0.967]\n"
     ]
    }
   ],
   "source": [
    "from sklearn.metrics import roc_curve\n",
    "\n",
    "# 레이블 값이 1일 때의 예측 확률을 추측\n",
    "pred_proba_class1 = lr_clf.predict_proba(X_test)[:,1]\n",
    "\n",
    "fprs, tprs, thresholds = roc_curve(y_test, pred_proba_class1)\n",
    "\n",
    "# 반환된 임곗값 배열 로우가 47건이므로 샘플로 10건만 추출하되, 임곗값을 5 Step으로 추출\n",
    "thr_index = np.arange(0, thresholds.shape[0], 5)\n",
    "print(\"샘플 추출을 위한 임곗값 배열의 index 10개: \", thr_index)\n",
    "print(\"샘플용 10개의 임곗값: \", np.round(thresholds[thr_index], 2))\n",
    "\n",
    "# 5 Step 단위로 추출된 임곗값에 따른 FPR, TPR 값\n",
    "print(\"샘플 임곗값 별 FPR: \", np.round(fprs[thr_index],3))\n",
    "print(\"샘플 임곗값 별 TPR: \", np.round(tprs[thr_index],3))"
   ]
  },
  {
   "cell_type": "code",
   "execution_count": 30,
   "id": "d79fd51e",
   "metadata": {},
   "outputs": [
    {
     "data": {
      "image/png": "[encoded data removed]",
      "text/plain": [
       "<Figure size 432x288 with 1 Axes>"
      ]
     },
     "metadata": {
      "needs_background": "light"
     },
     "output_type": "display_data"
    }
   ],
   "source": [
    "def roc_curve_plot(y_test, pred_proba_c1):\n",
    "    # 임곘값에 따른 FPR, TPR 값을 반환 받음.\n",
    "    fprs, tprs, thresholds = roc_curve(y_test, pred_proba_c1)\n",
    "    \n",
    "    # ROC Curve를 plot 곡선으로 그림\n",
    "    plt.plot(fprs, tprs, label=\"ROC\")\n",
    "    # 가운데 대각선 직선을 그림.\n",
    "    plt.plot([0,1], [0,1], 'k--', label='Random')\n",
    "    \n",
    "    # FPR X 축의 Scale을 0.1 단위로 변경, X,Y 축명 설정\n",
    "    start, end, = plt.xlim()\n",
    "    plt.xticks(np.round(np.arange(start,end,0.1),2))\n",
    "    plt.xlim(0,1)\n",
    "    plt.ylim(0,1)\n",
    "    plt.xlabel('FPR(1-Sensitivity)')\n",
    "    plt.ylabel('TPR(Recall)')\n",
    "    plt.legend()\n",
    "    plt.show()\n",
    "    \n",
    "roc_curve_plot(y_test, lr_clf.predict_proba(X_test)[:,1])"
   ]
  },
  {
   "cell_type": "code",
   "execution_count": 31,
   "id": "a48cc81d",
   "metadata": {},
   "outputs": [
    {
     "name": "stdout",
     "output_type": "stream",
     "text": [
      "ROC AUC 값: 0.9024\n"
     ]
    }
   ],
   "source": [
    "from sklearn.metrics import roc_auc_score\n",
    "\n",
    "### roc_auc_score()의 인자 수정 사항\n",
    "### roc_auc_score(y_test, pred)로 예측 타겟값을 입력했으나,\n",
    "### roc_auc_score(y_test, y_score)로 y_score는 predict_proba()로 호출된 예측 확률 ndarray 중 positive열에 해당하는 array\n",
    "\n",
    "pred_proba = lr_clf.predict_proba(X_test)[:,1]\n",
    "roc_score = roc_auc_score(y_test, pred_proba)\n",
    "print(\"ROC AUC 값: {0:.4f}\".format(roc_score))"
   ]
  }
 ],
 "metadata": {
  "kernelspec": {
   "display_name": "Python 3",
   "language": "python",
   "name": "python3"
  },
  "language_info": {
   "codemirror_mode": {
    "name": "ipython",
    "version": 3
   },
   "file_extension": ".py",
   "mimetype": "text/x-python",
   "name": "python",
   "nbconvert_exporter": "python",
   "pygments_lexer": "ipython3",
   "version": "3.8.8"
  }
 },
 "nbformat": 4,
 "nbformat_minor": 5
}
