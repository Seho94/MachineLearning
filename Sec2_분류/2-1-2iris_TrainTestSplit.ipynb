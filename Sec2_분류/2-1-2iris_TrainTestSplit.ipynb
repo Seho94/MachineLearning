{
 "cells": [
  {
   "cell_type": "markdown",
   "id": "4663beae",
   "metadata": {},
   "source": [
    "# sklearn 내장 예제 데이터 iris"
   ]
  },
  {
   "cell_type": "markdown",
   "id": "85ae7102",
   "metadata": {},
   "source": [
    "## sklearn.model_selection의 train_test_split()함수\n",
    "   - train_test_split(iris_data.data, iris_data.target, test_size=0.3, random_state=121)\n",
    "       1. test_size: 전체 데이터에서 테스트 데이터 세트 크기를 얼마로 샘플링할 것인가를 결정합니다. (default: 0.25)\n",
    "       2. shuffle: 데이터를 분리하기 전에 데이터를 미리 섞을지를 결정 (default: True)\n",
    "       3. random_state: 호출할 때마다 동일한 학습/테스트용 데이터 세트를 생성하기 위해 주어지는 난수값"
   ]
  },
  {
   "cell_type": "code",
   "execution_count": 13,
   "id": "0d8ad150",
   "metadata": {},
   "outputs": [
    {
     "name": "stdout",
     "output_type": "stream",
     "text": [
      "예측 정확도:  1.0\n"
     ]
    }
   ],
   "source": [
    "from sklearn.datasets import load_iris\n",
    "from sklearn.tree import DecisionTreeClassifier\n",
    "from sklearn.model_selection import train_test_split\n",
    "from sklearn.metrics import accuracy_score\n",
    "\n",
    "iris = load_iris()\n",
    "dt_clf = DecisionTreeClassifier()\n",
    "train_data = iris.data\n",
    "train_label = iris.target\n",
    "dt_clf.fit(train_data, train_label)\n",
    "\n",
    "# 학습 데이터 셋 예측 수행\n",
    "pred = dt_clf.predict(train_data)\n",
    "print(\"예측 정확도: \", accuracy_score(train_label, pred))"
   ]
  },
  {
   "cell_type": "code",
   "execution_count": 15,
   "id": "d4ae003f",
   "metadata": {},
   "outputs": [
    {
     "name": "stdout",
     "output_type": "stream",
     "text": [
      "예측 정확도: 0.955556\n"
     ]
    }
   ],
   "source": [
    "dt_clf = DecisionTreeClassifier()\n",
    "iris_data = load_iris()\n",
    "\n",
    "X_train, X_test, y_train, y_test = train_test_split(iris_data.data, iris_data.target,\n",
    "                                                   test_size=0.3, random_state=121)\n",
    "\n",
    "dt_clf.fit(X_train, y_train)\n",
    "pred  = dt_clf.predict(X_test)\n",
    "print(\"예측 정확도: {0:4f}\".format(accuracy_score(y_test, pred)))"
   ]
  },
  {
   "cell_type": "markdown",
   "id": "8604016c",
   "metadata": {},
   "source": [
    "### * numpy 뿐만 아니라 pandas Seires, DataFrame도 가능"
   ]
  }
 ],
 "metadata": {
  "kernelspec": {
   "display_name": "Python 3",
   "language": "python",
   "name": "python3"
  },
  "language_info": {
   "codemirror_mode": {
    "name": "ipython",
    "version": 3
   },
   "file_extension": ".py",
   "mimetype": "text/x-python",
   "name": "python",
   "nbconvert_exporter": "python",
   "pygments_lexer": "ipython3",
   "version": "3.8.8"
  }
 },
 "nbformat": 4,
 "nbformat_minor": 5
}
